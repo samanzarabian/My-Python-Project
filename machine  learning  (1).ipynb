{
 "cells": [
  {
   "cell_type": "markdown",
   "id": "0abaafa4",
   "metadata": {},
   "source": [
    "# Churn Prediction"
   ]
  },
  {
   "cell_type": "markdown",
   "id": "72c0d521",
   "metadata": {},
   "source": [
    "## Building churn model of costumer for EU Bank "
   ]
  },
  {
   "cell_type": "markdown",
   "id": "e8abc94a",
   "metadata": {},
   "source": [
    "#### Over the recent years, the costumers churning is an important task for all businesses and the EU Bank is not an exception. Predicting customer behavior can help EU Bank to manage and understand they need and they will have an overview of predicting churn customers. EU Bank has already a labeled data set. Their marketing team wants to build machine learning pipeline and build a model for. In order to have an inside that which costumers will stay and which will not. The data set has attributes of their customers such as CreditScore, Geography, Gender Age, Tenure Balance, NumOfProducts, HasCrCard, IsActiveMember, EstimatedSalary and finally Exited which shows that accounter holder will stay or not. their data set is supervised and its a classification task."
   ]
  },
  {
   "cell_type": "markdown",
   "id": "e48349a6",
   "metadata": {},
   "source": [
    "## Loading Python Library "
   ]
  },
  {
   "cell_type": "markdown",
   "id": "dd0cab34",
   "metadata": {},
   "source": [
    "####  Importing the pandas Library and using the short name of pd for working with the data set.                                                                                Using sklearn for Model Selection, Preprocessing, Exploration, Feature engineering, Training model, and Evaluation Metrics. also using lmblearn for oversampling but in this model, I decided to not use it as a result of accuracy."
   ]
  },
  {
   "cell_type": "code",
   "execution_count": 2,
   "id": "752eb0e0",
   "metadata": {},
   "outputs": [],
   "source": [
    "import pandas as pd \n",
    "\n",
    "import sklearn.model_selection\n",
    "import sklearn.preprocessing\n",
    "import sklearn.metrics\n",
    "import sklearn.decomposition\n",
    "import imblearn.over_sampling\n",
    "import matplotlib.pyplot as plt\n",
    "import sklearn.model_selection\n",
    "\n",
    "import sklearn.tree\n",
    "import sklearn.linear_model\n",
    "import sklearn.neighbors\n",
    "import sklearn.svm"
   ]
  },
  {
   "cell_type": "markdown",
   "id": "682ebd8d",
   "metadata": {},
   "source": [
    "## Loading Data Set:"
   ]
  },
  {
   "cell_type": "markdown",
   "id": "9157fb96",
   "metadata": {},
   "source": [
    "#### Used pandas library for loading data set and then set the CustomerID as an index because each has their number and also surname and Rownumber columns were dropped since there were not useful for predicting. The axis was given one to drop columns and finally, the data set run."
   ]
  },
  {
   "cell_type": "code",
   "execution_count": 3,
   "id": "c949e5ff",
   "metadata": {},
   "outputs": [
    {
     "data": {
      "text/html": [
       "<div>\n",
       "<style scoped>\n",
       "    .dataframe tbody tr th:only-of-type {\n",
       "        vertical-align: middle;\n",
       "    }\n",
       "\n",
       "    .dataframe tbody tr th {\n",
       "        vertical-align: top;\n",
       "    }\n",
       "\n",
       "    .dataframe thead th {\n",
       "        text-align: right;\n",
       "    }\n",
       "</style>\n",
       "<table border=\"1\" class=\"dataframe\">\n",
       "  <thead>\n",
       "    <tr style=\"text-align: right;\">\n",
       "      <th></th>\n",
       "      <th>CreditScore</th>\n",
       "      <th>Geography</th>\n",
       "      <th>Gender</th>\n",
       "      <th>Age</th>\n",
       "      <th>Tenure</th>\n",
       "      <th>Balance</th>\n",
       "      <th>NumOfProducts</th>\n",
       "      <th>HasCrCard</th>\n",
       "      <th>IsActiveMember</th>\n",
       "      <th>EstimatedSalary</th>\n",
       "      <th>Exited</th>\n",
       "    </tr>\n",
       "    <tr>\n",
       "      <th>CustomerId</th>\n",
       "      <th></th>\n",
       "      <th></th>\n",
       "      <th></th>\n",
       "      <th></th>\n",
       "      <th></th>\n",
       "      <th></th>\n",
       "      <th></th>\n",
       "      <th></th>\n",
       "      <th></th>\n",
       "      <th></th>\n",
       "      <th></th>\n",
       "    </tr>\n",
       "  </thead>\n",
       "  <tbody>\n",
       "    <tr>\n",
       "      <th>15634602</th>\n",
       "      <td>619</td>\n",
       "      <td>France</td>\n",
       "      <td>Female</td>\n",
       "      <td>42</td>\n",
       "      <td>2</td>\n",
       "      <td>0.00</td>\n",
       "      <td>1</td>\n",
       "      <td>1</td>\n",
       "      <td>1</td>\n",
       "      <td>101348.88</td>\n",
       "      <td>1</td>\n",
       "    </tr>\n",
       "    <tr>\n",
       "      <th>15647311</th>\n",
       "      <td>608</td>\n",
       "      <td>Spain</td>\n",
       "      <td>Female</td>\n",
       "      <td>41</td>\n",
       "      <td>1</td>\n",
       "      <td>83807.86</td>\n",
       "      <td>1</td>\n",
       "      <td>0</td>\n",
       "      <td>1</td>\n",
       "      <td>112542.58</td>\n",
       "      <td>0</td>\n",
       "    </tr>\n",
       "    <tr>\n",
       "      <th>15619304</th>\n",
       "      <td>502</td>\n",
       "      <td>France</td>\n",
       "      <td>Female</td>\n",
       "      <td>42</td>\n",
       "      <td>8</td>\n",
       "      <td>159660.80</td>\n",
       "      <td>3</td>\n",
       "      <td>1</td>\n",
       "      <td>0</td>\n",
       "      <td>113931.57</td>\n",
       "      <td>1</td>\n",
       "    </tr>\n",
       "    <tr>\n",
       "      <th>15701354</th>\n",
       "      <td>699</td>\n",
       "      <td>France</td>\n",
       "      <td>Female</td>\n",
       "      <td>39</td>\n",
       "      <td>1</td>\n",
       "      <td>0.00</td>\n",
       "      <td>2</td>\n",
       "      <td>0</td>\n",
       "      <td>0</td>\n",
       "      <td>93826.63</td>\n",
       "      <td>0</td>\n",
       "    </tr>\n",
       "    <tr>\n",
       "      <th>15737888</th>\n",
       "      <td>850</td>\n",
       "      <td>Spain</td>\n",
       "      <td>Female</td>\n",
       "      <td>43</td>\n",
       "      <td>2</td>\n",
       "      <td>125510.82</td>\n",
       "      <td>1</td>\n",
       "      <td>1</td>\n",
       "      <td>1</td>\n",
       "      <td>79084.10</td>\n",
       "      <td>0</td>\n",
       "    </tr>\n",
       "  </tbody>\n",
       "</table>\n",
       "</div>"
      ],
      "text/plain": [
       "            CreditScore Geography  Gender  Age  Tenure    Balance  \\\n",
       "CustomerId                                                          \n",
       "15634602            619    France  Female   42       2       0.00   \n",
       "15647311            608     Spain  Female   41       1   83807.86   \n",
       "15619304            502    France  Female   42       8  159660.80   \n",
       "15701354            699    France  Female   39       1       0.00   \n",
       "15737888            850     Spain  Female   43       2  125510.82   \n",
       "\n",
       "            NumOfProducts  HasCrCard  IsActiveMember  EstimatedSalary  Exited  \n",
       "CustomerId                                                                     \n",
       "15634602                1          1               1        101348.88       1  \n",
       "15647311                1          0               1        112542.58       0  \n",
       "15619304                3          1               0        113931.57       1  \n",
       "15701354                2          0               0         93826.63       0  \n",
       "15737888                1          1               1         79084.10       0  "
      ]
     },
     "execution_count": 3,
     "metadata": {},
     "output_type": "execute_result"
    }
   ],
   "source": [
    "df = pd.read_csv(\"../datasets/churn_modeling.csv\")\n",
    "df = df.set_index(\"CustomerId\")\n",
    "df = df.drop(['Surname','RowNumber'], axis=1)\n",
    "df.head()"
   ]
  },
  {
   "cell_type": "code",
   "execution_count": 4,
   "id": "a068c37f",
   "metadata": {},
   "outputs": [
    {
     "name": "stdout",
     "output_type": "stream",
     "text": [
      "the columns is: Index(['CreditScore', 'Geography', 'Gender', 'Age', 'Tenure', 'Balance',\n",
      "       'NumOfProducts', 'HasCrCard', 'IsActiveMember', 'EstimatedSalary',\n",
      "       'Exited'],\n",
      "      dtype='object')\n",
      "The shape of dataset is: (10000, 11)\n"
     ]
    }
   ],
   "source": [
    "print(\"the columns is:\",df.columns)\n",
    "\n",
    "print(\"The shape of dataset is:\",df.shape)"
   ]
  },
  {
   "cell_type": "markdown",
   "id": "bdefe2c0",
   "metadata": {},
   "source": [
    "## Split data into train and test: "
   ]
  },
  {
   "cell_type": "markdown",
   "id": "88bc738f",
   "metadata": {},
   "source": [
    "#### Split the data into Train and Test sets before doing any feature engineering and training so test set will be untouched. The proportion of training set and test set were allocated to 85% and 15%                                                                                                                                                                                                           "
   ]
  },
  {
   "cell_type": "code",
   "execution_count": 5,
   "id": "4a3a3c5e",
   "metadata": {},
   "outputs": [
    {
     "name": "stdout",
     "output_type": "stream",
     "text": [
      "df_train: (8500, 11)\n",
      "df_test: (1500, 11)\n"
     ]
    }
   ],
   "source": [
    "df_train, df_test, = sklearn.model_selection.train_test_split(df, train_size=.85, test_size=.15)\n",
    "\n",
    "print(\"df_train:\", df_train.shape)\n",
    "\n",
    "print(\"df_test:\",df_test.shape)"
   ]
  },
  {
   "cell_type": "markdown",
   "id": "d1892c49",
   "metadata": {},
   "source": [
    "## Data Exploration:"
   ]
  },
  {
   "cell_type": "markdown",
   "id": "967f135d",
   "metadata": {},
   "source": [
    "### Balance Exploration"
   ]
  },
  {
   "cell_type": "code",
   "execution_count": 6,
   "id": "62a191d7",
   "metadata": {},
   "outputs": [
    {
     "data": {
      "text/plain": [
       "0    6753\n",
       "1    1747\n",
       "Name: Exited, dtype: int64"
      ]
     },
     "execution_count": 6,
     "metadata": {},
     "output_type": "execute_result"
    }
   ],
   "source": [
    "df_train[\"Exited\"].value_counts() "
   ]
  },
  {
   "cell_type": "markdown",
   "id": "5df2cfdc",
   "metadata": {},
   "source": [
    "####   The amount of the target label was measured to check the balance. As a result, it seems almost balanced."
   ]
  },
  {
   "cell_type": "markdown",
   "id": "d5b43928",
   "metadata": {},
   "source": [
    "### Exploration for missing values:"
   ]
  },
  {
   "cell_type": "markdown",
   "id": "d2c577c2",
   "metadata": {},
   "source": [
    "### Explicit missing values"
   ]
  },
  {
   "cell_type": "code",
   "execution_count": 7,
   "id": "c34319da",
   "metadata": {},
   "outputs": [
    {
     "data": {
      "text/plain": [
       "CreditScore        0\n",
       "Geography          0\n",
       "Gender             0\n",
       "Age                0\n",
       "Tenure             0\n",
       "Balance            0\n",
       "NumOfProducts      0\n",
       "HasCrCard          0\n",
       "IsActiveMember     0\n",
       "EstimatedSalary    0\n",
       "Exited             0\n",
       "dtype: int64"
      ]
     },
     "execution_count": 7,
     "metadata": {},
     "output_type": "execute_result"
    }
   ],
   "source": [
    "df.isnull().sum()"
   ]
  },
  {
   "cell_type": "markdown",
   "id": "a5f3fe66",
   "metadata": {},
   "source": [
    "#### Understood all explicit missing values by isnull.sum method.  All columns are  zero so there are not any explicit missing values in this data set."
   ]
  },
  {
   "cell_type": "markdown",
   "id": "c702ee5f",
   "metadata": {},
   "source": [
    "### Implicit missing values "
   ]
  },
  {
   "cell_type": "markdown",
   "id": "551058fe",
   "metadata": {},
   "source": [
    "####  The unique methods check if there are any implicit missing values in the dataset. If there are very different values, there might be missing values. "
   ]
  },
  {
   "cell_type": "code",
   "execution_count": 8,
   "id": "d3d87321",
   "metadata": {},
   "outputs": [
    {
     "data": {
      "text/plain": [
       "array([619, 608, 502, 699, 850, 645, 822, 376, 501, 684, 528, 497, 476,\n",
       "       549, 635, 616, 653, 587, 726, 732, 636, 510, 669, 846, 577, 756,\n",
       "       571, 574, 411, 591, 533, 553, 520, 722, 475, 490, 804, 582, 472,\n",
       "       465, 556, 834, 660, 776, 829, 637, 550, 698, 585, 788, 655, 601,\n",
       "       656, 725, 511, 614, 742, 687, 555, 603, 751, 581, 735, 661, 675,\n",
       "       738, 813, 657, 604, 519, 664, 678, 757, 416, 665, 777, 543, 506,\n",
       "       493, 652, 750, 729, 646, 647, 808, 524, 769, 730, 515, 773, 814,\n",
       "       710, 413, 623, 670, 622, 785, 605, 479, 685, 538, 562, 721, 628,\n",
       "       668, 828, 674, 625, 432, 770, 758, 795, 686, 789, 589, 461, 584,\n",
       "       579, 663, 682, 793, 691, 485, 650, 754, 535, 716, 539, 706, 586,\n",
       "       631, 717, 800, 683, 704, 615, 667, 484, 480, 578, 512, 606, 597,\n",
       "       778, 514, 525, 715, 580, 807, 521, 759, 516, 711, 618, 643, 671,\n",
       "       689, 620, 676, 572, 695, 592, 567, 694, 547, 594, 673, 610, 767,\n",
       "       763, 712, 703, 662, 659, 523, 772, 545, 634, 739, 771, 681, 544,\n",
       "       696, 766, 727, 693, 557, 531, 498, 651, 791, 733, 811, 707, 714,\n",
       "       782, 775, 799, 602, 744, 588, 747, 583, 627, 731, 629, 438, 642,\n",
       "       806, 474, 559, 429, 680, 749, 734, 644, 626, 649, 805, 718, 840,\n",
       "       630, 654, 762, 568, 613, 522, 737, 648, 443, 640, 540, 460, 593,\n",
       "       801, 611, 802, 745, 483, 690, 492, 709, 705, 560, 752, 701, 537,\n",
       "       487, 596, 702, 486, 724, 548, 464, 790, 534, 748, 494, 590, 468,\n",
       "       509, 818, 816, 536, 753, 774, 621, 569, 658, 798, 641, 542, 692,\n",
       "       639, 765, 570, 638, 599, 632, 779, 527, 564, 833, 504, 842, 508,\n",
       "       417, 598, 741, 607, 761, 848, 546, 439, 755, 760, 526, 713, 700,\n",
       "       666, 566, 495, 688, 612, 477, 427, 839, 819, 720, 459, 503, 624,\n",
       "       529, 563, 482, 796, 445, 746, 786, 554, 672, 787, 499, 844, 450,\n",
       "       815, 838, 803, 736, 633, 600, 679, 517, 792, 743, 488, 421, 841,\n",
       "       708, 507, 505, 456, 435, 561, 518, 565, 728, 784, 552, 609, 764,\n",
       "       697, 723, 551, 444, 719, 496, 541, 830, 812, 677, 420, 595, 617,\n",
       "       809, 500, 826, 434, 513, 478, 797, 363, 399, 463, 780, 452, 575,\n",
       "       837, 794, 824, 428, 823, 781, 849, 489, 431, 457, 768, 831, 359,\n",
       "       820, 573, 576, 558, 817, 449, 440, 415, 821, 530, 350, 446, 425,\n",
       "       740, 481, 783, 358, 845, 451, 458, 469, 423, 404, 836, 473, 835,\n",
       "       466, 491, 351, 827, 843, 365, 532, 414, 453, 471, 401, 810, 832,\n",
       "       470, 447, 422, 825, 430, 436, 426, 408, 847, 418, 437, 410, 454,\n",
       "       407, 455, 462, 386, 405, 383, 395, 467, 433, 442, 424, 448, 441,\n",
       "       367, 412, 382, 373, 419])"
      ]
     },
     "execution_count": 8,
     "metadata": {},
     "output_type": "execute_result"
    }
   ],
   "source": [
    "df['CreditScore'].unique()\n"
   ]
  },
  {
   "cell_type": "code",
   "execution_count": 9,
   "id": "d662bcb8",
   "metadata": {},
   "outputs": [
    {
     "data": {
      "text/plain": [
       "array(['France', 'Spain', 'Germany'], dtype=object)"
      ]
     },
     "execution_count": 9,
     "metadata": {},
     "output_type": "execute_result"
    }
   ],
   "source": [
    "df['Geography'].unique()"
   ]
  },
  {
   "cell_type": "code",
   "execution_count": 10,
   "id": "d2f67573",
   "metadata": {},
   "outputs": [
    {
     "data": {
      "text/plain": [
       "array(['Female', 'Male'], dtype=object)"
      ]
     },
     "execution_count": 10,
     "metadata": {},
     "output_type": "execute_result"
    }
   ],
   "source": [
    "df['Gender'].unique()"
   ]
  },
  {
   "cell_type": "code",
   "execution_count": 11,
   "id": "f3175d19",
   "metadata": {},
   "outputs": [
    {
     "data": {
      "text/plain": [
       "array([42, 41, 39, 43, 44, 50, 29, 27, 31, 24, 34, 25, 35, 45, 58, 32, 38,\n",
       "       46, 36, 33, 40, 51, 61, 49, 37, 19, 66, 56, 26, 21, 55, 75, 22, 30,\n",
       "       28, 65, 48, 52, 57, 73, 47, 54, 72, 20, 67, 79, 62, 53, 80, 59, 68,\n",
       "       23, 60, 70, 63, 64, 18, 82, 69, 74, 71, 76, 77, 88, 85, 84, 78, 81,\n",
       "       92, 83])"
      ]
     },
     "execution_count": 11,
     "metadata": {},
     "output_type": "execute_result"
    }
   ],
   "source": [
    "df['Age'].unique()"
   ]
  },
  {
   "cell_type": "code",
   "execution_count": 12,
   "id": "881219e2",
   "metadata": {},
   "outputs": [
    {
     "data": {
      "text/plain": [
       "array([ 2,  1,  8,  7,  4,  6,  3, 10,  5,  9,  0])"
      ]
     },
     "execution_count": 12,
     "metadata": {},
     "output_type": "execute_result"
    }
   ],
   "source": [
    "df['Tenure'].unique()"
   ]
  },
  {
   "cell_type": "code",
   "execution_count": 13,
   "id": "e957e2f2",
   "metadata": {},
   "outputs": [
    {
     "data": {
      "text/plain": [
       "array([     0.  ,  83807.86, 159660.8 , ...,  57369.61,  75075.31,\n",
       "       130142.79])"
      ]
     },
     "execution_count": 13,
     "metadata": {},
     "output_type": "execute_result"
    }
   ],
   "source": [
    "df['Balance'].unique()"
   ]
  },
  {
   "cell_type": "code",
   "execution_count": 14,
   "id": "b6c2184f",
   "metadata": {},
   "outputs": [
    {
     "data": {
      "text/plain": [
       "array([1, 3, 2, 4])"
      ]
     },
     "execution_count": 14,
     "metadata": {},
     "output_type": "execute_result"
    }
   ],
   "source": [
    "df['NumOfProducts'].unique()"
   ]
  },
  {
   "cell_type": "code",
   "execution_count": 15,
   "id": "83736d3c",
   "metadata": {},
   "outputs": [
    {
     "data": {
      "text/plain": [
       "array([1, 0])"
      ]
     },
     "execution_count": 15,
     "metadata": {},
     "output_type": "execute_result"
    }
   ],
   "source": [
    "df['HasCrCard'].unique()"
   ]
  },
  {
   "cell_type": "code",
   "execution_count": 17,
   "id": "019f9ede",
   "metadata": {},
   "outputs": [
    {
     "data": {
      "text/plain": [
       "array([101348.88, 112542.58, 113931.57, ...,  42085.58,  92888.52,\n",
       "        38190.78])"
      ]
     },
     "execution_count": 17,
     "metadata": {},
     "output_type": "execute_result"
    }
   ],
   "source": [
    "df['EstimatedSalary'].unique()"
   ]
  },
  {
   "cell_type": "markdown",
   "id": "d4c5198d",
   "metadata": {},
   "source": [
    "#### So it is clear there are not any implicit missing values."
   ]
  },
  {
   "cell_type": "markdown",
   "id": "d5fd8ed3",
   "metadata": {},
   "source": [
    "## Data Preprocessing and Feature enginering:"
   ]
  },
  {
   "cell_type": "markdown",
   "id": "5a746c50",
   "metadata": {},
   "source": [
    "### Spliting features and target lable "
   ]
  },
  {
   "cell_type": "markdown",
   "id": "3fa01cb8",
   "metadata": {},
   "source": [
    "#### Now is the time to split the feature and target label of the train set and test set. (the axis is equal to one to split by columns)"
   ]
  },
  {
   "cell_type": "code",
   "execution_count": 18,
   "id": "2acfc032",
   "metadata": {},
   "outputs": [
    {
     "name": "stdout",
     "output_type": "stream",
     "text": [
      "y_train: (8500,)\n",
      "x_train: (8500, 10)\n",
      "x_test: (1500, 10)\n",
      "y_test: (1500,)\n"
     ]
    }
   ],
   "source": [
    "x_train = df_train.drop([\"Exited\"], axis=1)\n",
    "y_train = df_train[\"Exited\"]\n",
    "\n",
    "print(\"y_train:\", y_train.shape)\n",
    "print(\"x_train:\", x_train.shape)\n",
    "\n",
    "x_test = df_test.drop([\"Exited\"], axis=1)\n",
    "y_test = df_test[\"Exited\"]\n",
    "\n",
    "print(\"x_test:\",x_test.shape)\n",
    "print(\"y_test:\",y_test.shape)"
   ]
  },
  {
   "cell_type": "markdown",
   "id": "587e5a35",
   "metadata": {},
   "source": [
    "### One_Hot_Encoding "
   ]
  },
  {
   "cell_type": "markdown",
   "id": "482c8507",
   "metadata": {},
   "source": [
    "#### One-Hot-Encoding is necessary if there are non-numerical attributes in the data set. By this method, the non-numerical attributes are categorized. In this notebook, scikit-learn use to do One-Hot-Encoding."
   ]
  },
  {
   "cell_type": "code",
   "execution_count": 19,
   "id": "64ce82c6",
   "metadata": {},
   "outputs": [
    {
     "name": "stdout",
     "output_type": "stream",
     "text": [
      "x_train_encoded: (8500, 2947)\n",
      "x_test_encoded: (1500, 2947)\n"
     ]
    }
   ],
   "source": [
    "one_hot_encoding = sklearn.preprocessing.OneHotEncoder(handle_unknown='ignore')\n",
    "\n",
    "\n",
    "\n",
    "one_hot_encoding.fit(x_train)\n",
    "one_hot_encoding.fit(x_test)\n",
    "\n",
    "\n",
    "\n",
    "x_train = one_hot_encoding.transform(x_train).toarray()\n",
    "\n",
    "x_test = one_hot_encoding.transform(x_test).toarray()\n",
    "\n",
    "\n",
    "\n",
    "print(\"x_train_encoded:\", x_train.shape)\n",
    "print(\"x_test_encoded:\", x_test.shape)"
   ]
  },
  {
   "cell_type": "code",
   "execution_count": 20,
   "id": "18dd25e1",
   "metadata": {},
   "outputs": [
    {
     "name": "stdout",
     "output_type": "stream",
     "text": [
      "x_train_reduced: (8500, 100)\n",
      "x_test_reduced: (1500, 100)\n"
     ]
    }
   ],
   "source": [
    "pca = sklearn.decomposition.PCA(n_components=100)\n",
    "pca.fit(x_train)\n",
    "\n",
    "\n",
    "x_train = pca.transform(x_train)\n",
    "x_test = pca.transform(x_test)\n",
    "\n",
    "print(\"x_train_reduced:\", x_train.shape)\n",
    "print(\"x_test_reduced:\", x_test.shape)"
   ]
  },
  {
   "cell_type": "markdown",
   "id": "ee1ea33a",
   "metadata": {},
   "source": [
    "#### The number of components must be strictly less than the minimum of n_features and n_samples.so that is why I put 100 "
   ]
  },
  {
   "cell_type": "markdown",
   "id": "64e5857c",
   "metadata": {},
   "source": [
    "#### Feature engineering steps were checked for this notebook. such as, standardization, oversampling, and dimensionality reduction. All tested, and the best accuracy is when only PCA dimensionality reduction applies."
   ]
  },
  {
   "cell_type": "markdown",
   "id": "bbe4d3a2",
   "metadata": {},
   "source": [
    "## Model Selection and Hyperparameter Tuning"
   ]
  },
  {
   "cell_type": "markdown",
   "id": "b24fb6f3",
   "metadata": {},
   "source": [
    "#### Decision tree, Logistic regression, KNN, SVM were chosen for the training model. Grid-search was applied for tuning hyperparameters. The result of Grid search would say which model is the best. based on the accuracy. cv and n_jobs are the Grid search parameters and were given values of 5 and -1."
   ]
  },
  {
   "cell_type": "markdown",
   "id": "000291e7",
   "metadata": {},
   "source": [
    "### Decision tree classfier"
   ]
  },
  {
   "cell_type": "code",
   "execution_count": 21,
   "id": "f68f0a70",
   "metadata": {},
   "outputs": [
    {
     "name": "stdout",
     "output_type": "stream",
     "text": [
      "Accuracy of best decision tree classfier = 0.84\n",
      "Best found hyperparameters of decision tree classfier = {'criterion': 'gini', 'max_depth': 7, 'max_features': 'auto', 'min_samples_split': 56}\n"
     ]
    }
   ],
   "source": [
    "parameters_grid = {\n",
    "    \"criterion\": [\"gini\", \"entropy\"],\n",
    "    \"max_depth\": range(3, 20,2), \n",
    "    \"min_samples_split\": range(10,100),\n",
    "    \"max_features\" : [\"auto\", \"sqrt\", \"log2\"]\n",
    "}\n",
    "model_1 = sklearn.model_selection.GridSearchCV(sklearn.tree.DecisionTreeClassifier(), \n",
    "                                               parameters_grid, scoring=\"accuracy\", cv=5, n_jobs=-1)\n",
    "model_1.fit(x_train, y_train)\n",
    "print(\"Accuracy of best decision tree classfier = {:.2f}\".format(model_1.best_score_))\n",
    "print(\"Best found hyperparameters of decision tree classfier = {}\".format(model_1.best_params_))"
   ]
  },
  {
   "cell_type": "markdown",
   "id": "ea08ff61",
   "metadata": {},
   "source": [
    "#### The criterion, max_depth, min_samples_split, and max_features were which are the best parameters and the were tuned, and best hyper parameters and  accuracy were calculated."
   ]
  },
  {
   "cell_type": "markdown",
   "id": "fdab52a8",
   "metadata": {},
   "source": [
    "### Logestic regression "
   ]
  },
  {
   "cell_type": "code",
   "execution_count": 28,
   "id": "ef799b0c",
   "metadata": {
    "scrolled": true
   },
   "outputs": [
    {
     "name": "stdout",
     "output_type": "stream",
     "text": [
      "Accuracy of best Logistic regression = 0.85\n",
      "Best found hyperparameters of Logistic regression = {'C': 0.5, 'fit_intercept': True, 'tol': 2.5}\n"
     ]
    }
   ],
   "source": [
    "parameters_grid = {\n",
    "    \"fit_intercept\" :[True,False],\n",
    "    \"C\": [0.44,0.45,0.47,0.48,0.5,0.55,0.7],\n",
    "     \"tol\" : [0,.0001,2.5]          \n",
    "}\n",
    "model_2 = sklearn.model_selection.GridSearchCV(sklearn.linear_model.LogisticRegression(),\n",
    "                                             parameters_grid, scoring=\"accuracy\", cv=5, n_jobs=1)\n",
    "model_2.fit(x_train, y_train)\n",
    "print(\"Accuracy of best Logistic regression = {:.2f}\".format(model_2.best_score_))\n",
    "print(\"Best found hyperparameters of Logistic regression = {}\".format(model_2.best_params_))"
   ]
  },
  {
   "cell_type": "markdown",
   "id": "4cdce9fd",
   "metadata": {},
   "source": [
    "#### tried to improve the accuracy by tuning the C,fit_intercept an tol . Giving a variety of numbers to them to get the best result. The best accuracy from this model is achived 85%. "
   ]
  },
  {
   "cell_type": "markdown",
   "id": "fd0d9e27",
   "metadata": {},
   "source": [
    "### KNN"
   ]
  },
  {
   "cell_type": "code",
   "execution_count": 23,
   "id": "1d92aa81",
   "metadata": {},
   "outputs": [
    {
     "name": "stdout",
     "output_type": "stream",
     "text": [
      "Accuracy of best KNN classfier = 0.83\n",
      "Best found hyperparameters of KNN classifier = {'leaf_size': 20, 'metric': 'manhattan', 'n_neighbors': 6}\n"
     ]
    }
   ],
   "source": [
    "parameters_grid = {\n",
    "    \"n_neighbors\": [1,4,5,6], \n",
    "   \"metric\": [\"minkowski\", \"euclidean\", \"manhattan\"],\n",
    "    \"leaf_size\" : [20,25,30,35],\n",
    "}\n",
    "model_3 = sklearn.model_selection.GridSearchCV(sklearn.neighbors.KNeighborsClassifier(),\n",
    "                                               parameters_grid, scoring=\"accuracy\", cv=5, n_jobs=1)\n",
    "model_3.fit(x_train, y_train)\n",
    "print(\"Accuracy of best KNN classfier = {:.2f}\".format(model_3.best_score_))\n",
    "print(\"Best found hyperparameters of KNN classifier = {}\".format(model_3.best_params_))"
   ]
  },
  {
   "cell_type": "markdown",
   "id": "9e6d0f5e",
   "metadata": {},
   "source": [
    "#### KNN is one of the complicated models. n_neighbors, metric, leaf_size are the most vital hyperparameters, and tuning them to get the best accuracy. But it seems this model gives the lowest accuracy. It could be a result of the complexity that this model has."
   ]
  },
  {
   "cell_type": "markdown",
   "id": "38154543",
   "metadata": {},
   "source": [
    "### SVM"
   ]
  },
  {
   "cell_type": "code",
   "execution_count": 24,
   "id": "f849a1d0",
   "metadata": {},
   "outputs": [
    {
     "name": "stdout",
     "output_type": "stream",
     "text": [
      "Accuracy of best SVM classfier = 0.85\n",
      "Best found hyperparameters of SVM classifier = {'C': 1, 'kernel': 'rbf'}\n"
     ]
    }
   ],
   "source": [
    "parameters_grid = {\n",
    "    \"kernel\": [\"linear\", \"rbf\", \"poly\"], \n",
    "    \"C\": [0.001, 0.01, 0.1, 1, 10, 100],\n",
    "}\n",
    "model_4 = sklearn.model_selection.GridSearchCV(sklearn.svm.SVC(), \n",
    "                                               parameters_grid, scoring=\"accuracy\", cv=4, n_jobs=-1)\n",
    "model_4.fit(x_train,y_train)\n",
    "print(\"Accuracy of best SVM classfier = {:.2f}\".format(model_4.best_score_))\n",
    "print(\"Best found hyperparameters of SVM classifier = {}\".format(model_4.best_params_))"
   ]
  },
  {
   "cell_type": "markdown",
   "id": "6ab9bf87",
   "metadata": {},
   "source": [
    "#### Trainied the SVM model as well to see could it find a better model for the data set. tried to find the best value for Kernel and C and as the result is same as logistic regression ."
   ]
  },
  {
   "cell_type": "markdown",
   "id": "3bc1e230",
   "metadata": {},
   "source": [
    "## Model assessment:"
   ]
  },
  {
   "cell_type": "code",
   "execution_count": 25,
   "id": "a51f8ba7",
   "metadata": {},
   "outputs": [
    {
     "name": "stdout",
     "output_type": "stream",
     "text": [
      "Accuracy = 0.8553333333333333\n"
     ]
    }
   ],
   "source": [
    "y_predicted = model_4.predict(x_test)\n",
    "\n",
    "accuracy = sklearn.metrics.accuracy_score(y_test, y_predicted)\n",
    "\n",
    "\n",
    "print(\"Accuracy =\", accuracy)"
   ]
  },
  {
   "cell_type": "markdown",
   "id": "3352c11c",
   "metadata": {},
   "source": [
    "#### The Accuracy shows the percentage that the model predicted correctly  and in this has arround 85%accuracy."
   ]
  },
  {
   "cell_type": "code",
   "execution_count": 26,
   "id": "1ec4fb19",
   "metadata": {
    "scrolled": true
   },
   "outputs": [
    {
     "name": "stdout",
     "output_type": "stream",
     "text": [
      "Confusion Matrix:\n",
      " [[1173   37]\n",
      " [ 180  110]]\n"
     ]
    },
    {
     "data": {
      "image/png": "[encoded data removed]",
      "text/plain": [
       "<Figure size 432x288 with 2 Axes>"
      ]
     },
     "metadata": {
      "needs_background": "light"
     },
     "output_type": "display_data"
    }
   ],
   "source": [
    "confusion= sklearn.metrics.confusion_matrix(y_test, y_predicted)\n",
    "\n",
    "disp = sklearn.metrics.ConfusionMatrixDisplay(confusion_matrix=confusion,display_labels=model_4.classes_)\n",
    "\n",
    "disp.plot()\n",
    "print(\"Confusion Matrix:\\n\", confusion)"
   ]
  },
  {
   "cell_type": "markdown",
   "id": "9f1ece7b",
   "metadata": {},
   "source": [
    "#### Confusion matrix is used to see how the model predict truely. as it shows in the plot there was 1155 people how predicted to exit correctly also there were 121 peole who predicted to stay and they stay however, 46 people predicted to stay but the exited. and fortunatelly this number is not a lot . Additionally the number of people how predicted to exit but they do not is 178 which oes not make many chanches in our planning for costumer churning.\n"
   ]
  },
  {
   "cell_type": "code",
   "execution_count": 27,
   "id": "781cfd20",
   "metadata": {},
   "outputs": [
    {
     "name": "stdout",
     "output_type": "stream",
     "text": [
      "Precision : [0.86696231 0.74829932]\n",
      "Recall : [0.96942149 0.37931034]\n",
      "F1 Score : [0.91533359 0.50343249]\n"
     ]
    }
   ],
   "source": [
    "precision, recall, f1,support = sklearn.metrics.precision_recall_fscore_support(y_test, y_predicted)\n",
    "\n",
    "\n",
    "print(\"Precision :\", precision)\n",
    "print(\"Recall :\", recall)\n",
    "print(\"F1 Score :\", f1)"
   ]
  },
  {
   "cell_type": "markdown",
   "id": "746e9668",
   "metadata": {},
   "source": [
    "#### Precision is the metric that shows the ratio of the number of the class that predicted correctly to all the number of correct predictions. Recall is the metric for a ratio of all corrected predictions of the class to all numbers that are correctly predicted from other class and the other class that is not predicted correctly.F1 is a combination of precision and Recall. "
   ]
  },
  {
   "cell_type": "markdown",
   "id": "6b98a455",
   "metadata": {},
   "source": [
    "## Feature Importance Analysis:"
   ]
  },
  {
   "cell_type": "markdown",
   "id": "a0039dd7",
   "metadata": {},
   "source": [
    "##### as we can see there is not very different between the models that trained the accuray has only diffrent one or two perecentages and that also when I do feture enginiering  standardization did not increase the accuracy so as we can see the highest accuracy I can achive is 85% and if the EU bank need more accurate model one suggestion for them is that they should collect more accutate feacures "
   ]
  },
  {
   "cell_type": "markdown",
   "id": "819968a7",
   "metadata": {},
   "source": [
    "## Final Discussion:"
   ]
  },
  {
   "cell_type": "markdown",
   "id": "c89d873c",
   "metadata": {},
   "source": [
    "####  Customer churn is a classification task. For decreasing, consumer churn behavior is important to understand consumer attributes and target the consumers to control consumer churn behavior ( 2016 Saran Kumar A.). EU bank like other businesses wants to have an insight into their consumer churning behavior so their marketing team wants me to build a machine learning pipeline to predict whether the consumer will stay with EU bank or not. First I upload the data set and then did data preprocessing and feature engineering. I tried logistic regression, decision tree, KNN, and SVM then by grid search method I found the best model and hyperparameters. I choose the best model and calculate the accuracy, confusion metric other metrics such as precision, recall, and f1. The advantage of this data set is that the data was clear and clean. Also, the metrics I got are a good result but can still improve for the future and tune the model more accurately. "
   ]
  },
  {
   "cell_type": "markdown",
   "id": "d6f0bbac",
   "metadata": {},
   "source": [
    "## Resource "
   ]
  },
  {
   "cell_type": "markdown",
   "id": "7892e719",
   "metadata": {},
   "source": [
    "#### International Journal of Computer Applications (0975 – 8887)Volume 154 – No.10, November 2016 13 A Survey on Customer Churn Prediction using Machine Learning TechniquesSaran Kumar A.M.E. ScholarKumaraguru College of Technology Coimbatore, India"
   ]
  }
 ],
 "metadata": {
  "kernelspec": {
   "display_name": "Python 3 (ipykernel)",
   "language": "python",
   "name": "python3"
  },
  "language_info": {
   "codemirror_mode": {
    "name": "ipython",
    "version": 3
   },
   "file_extension": ".py",
   "mimetype": "text/x-python",
   "name": "python",
   "nbconvert_exporter": "python",
   "pygments_lexer": "ipython3",
   "version": "3.8.12"
  }
 },
 "nbformat": 4,
 "nbformat_minor": 5
}
