{
 "cells": [
  {
   "cell_type": "markdown",
   "id": "e48349a6",
   "metadata": {},
   "source": [
    "#URL   https://www.kaggle.com/datasets/swathiachath/kc-housesales-data"
   ]
  },
  {
   "cell_type": "markdown",
   "id": "e937ebf9",
   "metadata": {},
   "source": [
    "# Predicting Property price "
   ]
  },
  {
   "cell_type": "markdown",
   "id": "138b794e",
   "metadata": {},
   "source": [
    "### Introduction "
   ]
  },
  {
   "cell_type": "markdown",
   "id": "7b585c38",
   "metadata": {},
   "source": [
    "##### The dataset belongs to a real estate website in King County, the city in Washington state, USA. They want me to design a machine learning model to predict the price of houses. This dataset consisted of 21 variables and 21613 different houses.The price prediction is an important task for real estate companies because they can give customers much more service with less cost in comparison with the traditional way. Predicting price also has some advantages for the company. Firstly, it can optimize their cost since in the traditional real estate companies the price of a house was not systematic and there were no metrics to calculate error while in machine learning tasks is it. they need much more professional staff than modern companies that use machine learning. Additional to all they can give service to much more customers.They want me to built machine learning pipline base on number of bedrooms and\tbathrooms, sqft_living(living square footage), sqftabove (square footage of house apart from basement )sqftbasement (square footage of the basement) ,zipcode, I will explore the data set and formulate it as supervised learning. The target is the price of a house that is why the model should be regression."
   ]
  },
  {
   "cell_type": "markdown",
   "id": "d6f31ece",
   "metadata": {},
   "source": [
    "## Loding Python Library "
   ]
  },
  {
   "cell_type": "markdown",
   "id": "d26fdfdb",
   "metadata": {},
   "source": [
    "### Loding an library that I will use later "
   ]
  },
  {
   "cell_type": "code",
   "execution_count": null,
   "id": "752eb0e0",
   "metadata": {},
   "outputs": [],
   "source": [
    "import pandas as pd \n",
    "import sklearn.model_selection\n",
    "import sklearn.preprocessing\n",
    "import sklearn.metrics\n",
    "import sklearn.decomposition\n",
    "import imblearn.over_sampling\n",
    "import sklearn.linear_model\n",
    "import sklearn.model_selection\n",
    "import sklearn.ensemble\n",
    "import sklearn.neural_network\n",
    "import matplotlib.pyplot as plt\n",
    "import matplotlib.pyplot as plt\n",
    "import numpy as np"
   ]
  },
  {
   "cell_type": "markdown",
   "id": "682ebd8d",
   "metadata": {},
   "source": [
    "## Loding Data Set and Exploration :"
   ]
  },
  {
   "cell_type": "markdown",
   "id": "0243b625",
   "metadata": {},
   "source": [
    "#URL   https://www.kaggle.com/datasets/swathiachath/kc-housesales-data"
   ]
  },
  {
   "cell_type": "code",
   "execution_count": 2,
   "id": "c949e5ff",
   "metadata": {},
   "outputs": [
    {
     "data": {
      "text/html": [
       "<div>\n",
       "<style scoped>\n",
       "    .dataframe tbody tr th:only-of-type {\n",
       "        vertical-align: middle;\n",
       "    }\n",
       "\n",
       "    .dataframe tbody tr th {\n",
       "        vertical-align: top;\n",
       "    }\n",
       "\n",
       "    .dataframe thead th {\n",
       "        text-align: right;\n",
       "    }\n",
       "</style>\n",
       "<table border=\"1\" class=\"dataframe\">\n",
       "  <thead>\n",
       "    <tr style=\"text-align: right;\">\n",
       "      <th></th>\n",
       "      <th>date</th>\n",
       "      <th>price</th>\n",
       "      <th>bedrooms</th>\n",
       "      <th>bathrooms</th>\n",
       "      <th>sqft_living</th>\n",
       "      <th>sqft_lot</th>\n",
       "      <th>floors</th>\n",
       "      <th>waterfront</th>\n",
       "      <th>condition</th>\n",
       "      <th>grade</th>\n",
       "      <th>sqft_above</th>\n",
       "      <th>sqft_basement</th>\n",
       "      <th>yr_built</th>\n",
       "      <th>yr_renovated</th>\n",
       "      <th>zipcode</th>\n",
       "      <th>lat</th>\n",
       "      <th>long</th>\n",
       "      <th>sqft_living15</th>\n",
       "      <th>sqft_lot15</th>\n",
       "    </tr>\n",
       "    <tr>\n",
       "      <th>id</th>\n",
       "      <th></th>\n",
       "      <th></th>\n",
       "      <th></th>\n",
       "      <th></th>\n",
       "      <th></th>\n",
       "      <th></th>\n",
       "      <th></th>\n",
       "      <th></th>\n",
       "      <th></th>\n",
       "      <th></th>\n",
       "      <th></th>\n",
       "      <th></th>\n",
       "      <th></th>\n",
       "      <th></th>\n",
       "      <th></th>\n",
       "      <th></th>\n",
       "      <th></th>\n",
       "      <th></th>\n",
       "      <th></th>\n",
       "    </tr>\n",
       "  </thead>\n",
       "  <tbody>\n",
       "    <tr>\n",
       "      <th>7129300520</th>\n",
       "      <td>20141013T000000</td>\n",
       "      <td>221900.0</td>\n",
       "      <td>3</td>\n",
       "      <td>1.00</td>\n",
       "      <td>1180</td>\n",
       "      <td>5650</td>\n",
       "      <td>1.0</td>\n",
       "      <td>0</td>\n",
       "      <td>3</td>\n",
       "      <td>7</td>\n",
       "      <td>1180</td>\n",
       "      <td>0</td>\n",
       "      <td>1955</td>\n",
       "      <td>0</td>\n",
       "      <td>98178</td>\n",
       "      <td>47.5112</td>\n",
       "      <td>-122.257</td>\n",
       "      <td>1340</td>\n",
       "      <td>5650</td>\n",
       "    </tr>\n",
       "    <tr>\n",
       "      <th>6414100192</th>\n",
       "      <td>20141209T000000</td>\n",
       "      <td>538000.0</td>\n",
       "      <td>3</td>\n",
       "      <td>2.25</td>\n",
       "      <td>2570</td>\n",
       "      <td>7242</td>\n",
       "      <td>2.0</td>\n",
       "      <td>0</td>\n",
       "      <td>3</td>\n",
       "      <td>7</td>\n",
       "      <td>2170</td>\n",
       "      <td>400</td>\n",
       "      <td>1951</td>\n",
       "      <td>1991</td>\n",
       "      <td>98125</td>\n",
       "      <td>47.7210</td>\n",
       "      <td>-122.319</td>\n",
       "      <td>1690</td>\n",
       "      <td>7639</td>\n",
       "    </tr>\n",
       "    <tr>\n",
       "      <th>5631500400</th>\n",
       "      <td>20150225T000000</td>\n",
       "      <td>180000.0</td>\n",
       "      <td>2</td>\n",
       "      <td>1.00</td>\n",
       "      <td>770</td>\n",
       "      <td>10000</td>\n",
       "      <td>1.0</td>\n",
       "      <td>0</td>\n",
       "      <td>3</td>\n",
       "      <td>6</td>\n",
       "      <td>770</td>\n",
       "      <td>0</td>\n",
       "      <td>1933</td>\n",
       "      <td>0</td>\n",
       "      <td>98028</td>\n",
       "      <td>47.7379</td>\n",
       "      <td>-122.233</td>\n",
       "      <td>2720</td>\n",
       "      <td>8062</td>\n",
       "    </tr>\n",
       "    <tr>\n",
       "      <th>2487200875</th>\n",
       "      <td>20141209T000000</td>\n",
       "      <td>604000.0</td>\n",
       "      <td>4</td>\n",
       "      <td>3.00</td>\n",
       "      <td>1960</td>\n",
       "      <td>5000</td>\n",
       "      <td>1.0</td>\n",
       "      <td>0</td>\n",
       "      <td>5</td>\n",
       "      <td>7</td>\n",
       "      <td>1050</td>\n",
       "      <td>910</td>\n",
       "      <td>1965</td>\n",
       "      <td>0</td>\n",
       "      <td>98136</td>\n",
       "      <td>47.5208</td>\n",
       "      <td>-122.393</td>\n",
       "      <td>1360</td>\n",
       "      <td>5000</td>\n",
       "    </tr>\n",
       "    <tr>\n",
       "      <th>1954400510</th>\n",
       "      <td>20150218T000000</td>\n",
       "      <td>510000.0</td>\n",
       "      <td>3</td>\n",
       "      <td>2.00</td>\n",
       "      <td>1680</td>\n",
       "      <td>8080</td>\n",
       "      <td>1.0</td>\n",
       "      <td>0</td>\n",
       "      <td>3</td>\n",
       "      <td>8</td>\n",
       "      <td>1680</td>\n",
       "      <td>0</td>\n",
       "      <td>1987</td>\n",
       "      <td>0</td>\n",
       "      <td>98074</td>\n",
       "      <td>47.6168</td>\n",
       "      <td>-122.045</td>\n",
       "      <td>1800</td>\n",
       "      <td>7503</td>\n",
       "    </tr>\n",
       "  </tbody>\n",
       "</table>\n",
       "</div>"
      ],
      "text/plain": [
       "                       date     price  bedrooms  bathrooms  sqft_living  \\\n",
       "id                                                                        \n",
       "7129300520  20141013T000000  221900.0         3       1.00         1180   \n",
       "6414100192  20141209T000000  538000.0         3       2.25         2570   \n",
       "5631500400  20150225T000000  180000.0         2       1.00          770   \n",
       "2487200875  20141209T000000  604000.0         4       3.00         1960   \n",
       "1954400510  20150218T000000  510000.0         3       2.00         1680   \n",
       "\n",
       "            sqft_lot  floors  waterfront  condition  grade  sqft_above  \\\n",
       "id                                                                       \n",
       "7129300520      5650     1.0           0          3      7        1180   \n",
       "6414100192      7242     2.0           0          3      7        2170   \n",
       "5631500400     10000     1.0           0          3      6         770   \n",
       "2487200875      5000     1.0           0          5      7        1050   \n",
       "1954400510      8080     1.0           0          3      8        1680   \n",
       "\n",
       "            sqft_basement  yr_built  yr_renovated  zipcode      lat     long  \\\n",
       "id                                                                             \n",
       "7129300520              0      1955             0    98178  47.5112 -122.257   \n",
       "6414100192            400      1951          1991    98125  47.7210 -122.319   \n",
       "5631500400              0      1933             0    98028  47.7379 -122.233   \n",
       "2487200875            910      1965             0    98136  47.5208 -122.393   \n",
       "1954400510              0      1987             0    98074  47.6168 -122.045   \n",
       "\n",
       "            sqft_living15  sqft_lot15  \n",
       "id                                     \n",
       "7129300520           1340        5650  \n",
       "6414100192           1690        7639  \n",
       "5631500400           2720        8062  \n",
       "2487200875           1360        5000  \n",
       "1954400510           1800        7503  "
      ]
     },
     "execution_count": 2,
     "metadata": {},
     "output_type": "execute_result"
    }
   ],
   "source": [
    "df = pd.read_csv(\"../datasets/kc_house_data.csv\")\n",
    "df = df.set_index(\"id\")\n",
    "df=df.drop(\"view\",axis=1)\n",
    "\n",
    "df.head()"
   ]
  },
  {
   "cell_type": "markdown",
   "id": "c29eed46",
   "metadata": {},
   "source": [
    "#### In this section, I load the data set. Set the id as an index and then the number of views has dropped since the number of views is not a good variable for predicting a house. one house could be viewed many times but it does not mean that it is expencive or not."
   ]
  },
  {
   "cell_type": "code",
   "execution_count": 3,
   "id": "759bcad8",
   "metadata": {},
   "outputs": [
    {
     "name": "stdout",
     "output_type": "stream",
     "text": [
      "The shape of dataset is: (21613, 19)\n"
     ]
    }
   ],
   "source": [
    "print(\"The shape of dataset is:\",df.shape)"
   ]
  },
  {
   "cell_type": "code",
   "execution_count": 4,
   "id": "a068c37f",
   "metadata": {},
   "outputs": [
    {
     "name": "stdout",
     "output_type": "stream",
     "text": [
      "the columns is: Index(['date', 'price', 'bedrooms', 'bathrooms', 'sqft_living', 'sqft_lot',\n",
      "       'floors', 'waterfront', 'condition', 'grade', 'sqft_above',\n",
      "       'sqft_basement', 'yr_built', 'yr_renovated', 'zipcode', 'lat', 'long',\n",
      "       'sqft_living15', 'sqft_lot15'],\n",
      "      dtype='object')\n"
     ]
    }
   ],
   "source": [
    "print(\"the columns is:\",df.columns)"
   ]
  },
  {
   "cell_type": "markdown",
   "id": "ec9d68a9",
   "metadata": {},
   "source": [
    "####  I will explane the meaning of  varabels that are not clear, sqft_living(living square footage),sqft_lot (square footage of the lot),waterfront which has view ti water front numeric ,condition how good the condition is, sqft(basement square footage of the house apart from basement), sft(basement square footage of the basement), lat(lattitude coordinate numeric), long(longitude coordinate), sqftliving15 (living room area in 2015 ), sqft lot 15 (lot size area in 2015 ), yr_built year of built and yr_renovated year of renovation that later I replace the with the age of house and age of renovation."
   ]
  },
  {
   "cell_type": "markdown",
   "id": "d2c577c2",
   "metadata": {},
   "source": [
    "### Explicit missing values :"
   ]
  },
  {
   "cell_type": "code",
   "execution_count": 5,
   "id": "c34319da",
   "metadata": {},
   "outputs": [
    {
     "data": {
      "text/plain": [
       "date             0\n",
       "price            0\n",
       "bedrooms         0\n",
       "bathrooms        0\n",
       "sqft_living      0\n",
       "sqft_lot         0\n",
       "floors           0\n",
       "waterfront       0\n",
       "condition        0\n",
       "grade            0\n",
       "sqft_above       0\n",
       "sqft_basement    0\n",
       "yr_built         0\n",
       "yr_renovated     0\n",
       "zipcode          0\n",
       "lat              0\n",
       "long             0\n",
       "sqft_living15    0\n",
       "sqft_lot15       0\n",
       "dtype: int64"
      ]
     },
     "execution_count": 5,
     "metadata": {},
     "output_type": "execute_result"
    }
   ],
   "source": [
    "df.isnull().sum()"
   ]
  },
  {
   "cell_type": "markdown",
   "id": "a5f3fe66",
   "metadata": {},
   "source": [
    "#### Understood all explicit missing values by isnull.sum method.  All columns are  zero so there are not any explicit missing values in this data set. "
   ]
  },
  {
   "cell_type": "markdown",
   "id": "875261e4",
   "metadata": {},
   "source": [
    "### Implicit missing values :"
   ]
  },
  {
   "cell_type": "code",
   "execution_count": 6,
   "id": "9f29c065",
   "metadata": {
    "scrolled": true
   },
   "outputs": [
    {
     "data": {
      "text/plain": [
       "array([ 3,  2,  4,  5,  1,  6,  7,  0,  8,  9, 11, 10, 33])"
      ]
     },
     "execution_count": 6,
     "metadata": {},
     "output_type": "execute_result"
    }
   ],
   "source": [
    "df[\"bedrooms\"].unique()"
   ]
  },
  {
   "cell_type": "markdown",
   "id": "aecb5aea",
   "metadata": {},
   "source": [
    "#### It might not possible to house have 33 or 10 or 11 or 0 room "
   ]
  },
  {
   "cell_type": "code",
   "execution_count": 7,
   "id": "5704e9e3",
   "metadata": {},
   "outputs": [
    {
     "data": {
      "text/html": [
       "<div>\n",
       "<style scoped>\n",
       "    .dataframe tbody tr th:only-of-type {\n",
       "        vertical-align: middle;\n",
       "    }\n",
       "\n",
       "    .dataframe tbody tr th {\n",
       "        vertical-align: top;\n",
       "    }\n",
       "\n",
       "    .dataframe thead th {\n",
       "        text-align: right;\n",
       "    }\n",
       "</style>\n",
       "<table border=\"1\" class=\"dataframe\">\n",
       "  <thead>\n",
       "    <tr style=\"text-align: right;\">\n",
       "      <th></th>\n",
       "      <th>date</th>\n",
       "      <th>price</th>\n",
       "      <th>bedrooms</th>\n",
       "      <th>bathrooms</th>\n",
       "      <th>sqft_living</th>\n",
       "      <th>sqft_lot</th>\n",
       "      <th>floors</th>\n",
       "      <th>waterfront</th>\n",
       "      <th>condition</th>\n",
       "      <th>grade</th>\n",
       "      <th>sqft_above</th>\n",
       "      <th>sqft_basement</th>\n",
       "      <th>yr_built</th>\n",
       "      <th>yr_renovated</th>\n",
       "      <th>zipcode</th>\n",
       "      <th>lat</th>\n",
       "      <th>long</th>\n",
       "      <th>sqft_living15</th>\n",
       "      <th>sqft_lot15</th>\n",
       "    </tr>\n",
       "    <tr>\n",
       "      <th>id</th>\n",
       "      <th></th>\n",
       "      <th></th>\n",
       "      <th></th>\n",
       "      <th></th>\n",
       "      <th></th>\n",
       "      <th></th>\n",
       "      <th></th>\n",
       "      <th></th>\n",
       "      <th></th>\n",
       "      <th></th>\n",
       "      <th></th>\n",
       "      <th></th>\n",
       "      <th></th>\n",
       "      <th></th>\n",
       "      <th></th>\n",
       "      <th></th>\n",
       "      <th></th>\n",
       "      <th></th>\n",
       "      <th></th>\n",
       "    </tr>\n",
       "  </thead>\n",
       "  <tbody>\n",
       "    <tr>\n",
       "      <th>2402100895</th>\n",
       "      <td>20140625T000000</td>\n",
       "      <td>640000.0</td>\n",
       "      <td>33</td>\n",
       "      <td>1.75</td>\n",
       "      <td>1620</td>\n",
       "      <td>6000</td>\n",
       "      <td>1.0</td>\n",
       "      <td>0</td>\n",
       "      <td>5</td>\n",
       "      <td>7</td>\n",
       "      <td>1040</td>\n",
       "      <td>580</td>\n",
       "      <td>1947</td>\n",
       "      <td>0</td>\n",
       "      <td>98103</td>\n",
       "      <td>47.6878</td>\n",
       "      <td>-122.331</td>\n",
       "      <td>1330</td>\n",
       "      <td>4700</td>\n",
       "    </tr>\n",
       "  </tbody>\n",
       "</table>\n",
       "</div>"
      ],
      "text/plain": [
       "                       date     price  bedrooms  bathrooms  sqft_living  \\\n",
       "id                                                                        \n",
       "2402100895  20140625T000000  640000.0        33       1.75         1620   \n",
       "\n",
       "            sqft_lot  floors  waterfront  condition  grade  sqft_above  \\\n",
       "id                                                                       \n",
       "2402100895      6000     1.0           0          5      7        1040   \n",
       "\n",
       "            sqft_basement  yr_built  yr_renovated  zipcode      lat     long  \\\n",
       "id                                                                             \n",
       "2402100895            580      1947             0    98103  47.6878 -122.331   \n",
       "\n",
       "            sqft_living15  sqft_lot15  \n",
       "id                                     \n",
       "2402100895           1330        4700  "
      ]
     },
     "execution_count": 7,
     "metadata": {},
     "output_type": "execute_result"
    }
   ],
   "source": [
    "df.loc[df[\"bedrooms\"] == 33]"
   ]
  },
  {
   "cell_type": "code",
   "execution_count": 8,
   "id": "f77fcb19",
   "metadata": {},
   "outputs": [
    {
     "data": {
      "text/html": [
       "<div>\n",
       "<style scoped>\n",
       "    .dataframe tbody tr th:only-of-type {\n",
       "        vertical-align: middle;\n",
       "    }\n",
       "\n",
       "    .dataframe tbody tr th {\n",
       "        vertical-align: top;\n",
       "    }\n",
       "\n",
       "    .dataframe thead th {\n",
       "        text-align: right;\n",
       "    }\n",
       "</style>\n",
       "<table border=\"1\" class=\"dataframe\">\n",
       "  <thead>\n",
       "    <tr style=\"text-align: right;\">\n",
       "      <th></th>\n",
       "      <th>date</th>\n",
       "      <th>price</th>\n",
       "      <th>bedrooms</th>\n",
       "      <th>bathrooms</th>\n",
       "      <th>sqft_living</th>\n",
       "      <th>sqft_lot</th>\n",
       "      <th>floors</th>\n",
       "      <th>waterfront</th>\n",
       "      <th>condition</th>\n",
       "      <th>grade</th>\n",
       "      <th>sqft_above</th>\n",
       "      <th>sqft_basement</th>\n",
       "      <th>yr_built</th>\n",
       "      <th>yr_renovated</th>\n",
       "      <th>zipcode</th>\n",
       "      <th>lat</th>\n",
       "      <th>long</th>\n",
       "      <th>sqft_living15</th>\n",
       "      <th>sqft_lot15</th>\n",
       "    </tr>\n",
       "    <tr>\n",
       "      <th>id</th>\n",
       "      <th></th>\n",
       "      <th></th>\n",
       "      <th></th>\n",
       "      <th></th>\n",
       "      <th></th>\n",
       "      <th></th>\n",
       "      <th></th>\n",
       "      <th></th>\n",
       "      <th></th>\n",
       "      <th></th>\n",
       "      <th></th>\n",
       "      <th></th>\n",
       "      <th></th>\n",
       "      <th></th>\n",
       "      <th></th>\n",
       "      <th></th>\n",
       "      <th></th>\n",
       "      <th></th>\n",
       "      <th></th>\n",
       "    </tr>\n",
       "  </thead>\n",
       "  <tbody>\n",
       "    <tr>\n",
       "      <th>627300145</th>\n",
       "      <td>20140814T000000</td>\n",
       "      <td>1148000.0</td>\n",
       "      <td>10</td>\n",
       "      <td>5.25</td>\n",
       "      <td>4590</td>\n",
       "      <td>10920</td>\n",
       "      <td>1.0</td>\n",
       "      <td>0</td>\n",
       "      <td>3</td>\n",
       "      <td>9</td>\n",
       "      <td>2500</td>\n",
       "      <td>2090</td>\n",
       "      <td>2008</td>\n",
       "      <td>0</td>\n",
       "      <td>98004</td>\n",
       "      <td>47.5861</td>\n",
       "      <td>-122.113</td>\n",
       "      <td>2730</td>\n",
       "      <td>10400</td>\n",
       "    </tr>\n",
       "    <tr>\n",
       "      <th>5566100170</th>\n",
       "      <td>20141029T000000</td>\n",
       "      <td>650000.0</td>\n",
       "      <td>10</td>\n",
       "      <td>2.00</td>\n",
       "      <td>3610</td>\n",
       "      <td>11914</td>\n",
       "      <td>2.0</td>\n",
       "      <td>0</td>\n",
       "      <td>4</td>\n",
       "      <td>7</td>\n",
       "      <td>3010</td>\n",
       "      <td>600</td>\n",
       "      <td>1958</td>\n",
       "      <td>0</td>\n",
       "      <td>98006</td>\n",
       "      <td>47.5705</td>\n",
       "      <td>-122.175</td>\n",
       "      <td>2040</td>\n",
       "      <td>11914</td>\n",
       "    </tr>\n",
       "    <tr>\n",
       "      <th>8812401450</th>\n",
       "      <td>20141229T000000</td>\n",
       "      <td>660000.0</td>\n",
       "      <td>10</td>\n",
       "      <td>3.00</td>\n",
       "      <td>2920</td>\n",
       "      <td>3745</td>\n",
       "      <td>2.0</td>\n",
       "      <td>0</td>\n",
       "      <td>4</td>\n",
       "      <td>7</td>\n",
       "      <td>1860</td>\n",
       "      <td>1060</td>\n",
       "      <td>1913</td>\n",
       "      <td>0</td>\n",
       "      <td>98105</td>\n",
       "      <td>47.6635</td>\n",
       "      <td>-122.320</td>\n",
       "      <td>1810</td>\n",
       "      <td>3745</td>\n",
       "    </tr>\n",
       "  </tbody>\n",
       "</table>\n",
       "</div>"
      ],
      "text/plain": [
       "                       date      price  bedrooms  bathrooms  sqft_living  \\\n",
       "id                                                                         \n",
       "627300145   20140814T000000  1148000.0        10       5.25         4590   \n",
       "5566100170  20141029T000000   650000.0        10       2.00         3610   \n",
       "8812401450  20141229T000000   660000.0        10       3.00         2920   \n",
       "\n",
       "            sqft_lot  floors  waterfront  condition  grade  sqft_above  \\\n",
       "id                                                                       \n",
       "627300145      10920     1.0           0          3      9        2500   \n",
       "5566100170     11914     2.0           0          4      7        3010   \n",
       "8812401450      3745     2.0           0          4      7        1860   \n",
       "\n",
       "            sqft_basement  yr_built  yr_renovated  zipcode      lat     long  \\\n",
       "id                                                                             \n",
       "627300145            2090      2008             0    98004  47.5861 -122.113   \n",
       "5566100170            600      1958             0    98006  47.5705 -122.175   \n",
       "8812401450           1060      1913             0    98105  47.6635 -122.320   \n",
       "\n",
       "            sqft_living15  sqft_lot15  \n",
       "id                                     \n",
       "627300145            2730       10400  \n",
       "5566100170           2040       11914  \n",
       "8812401450           1810        3745  "
      ]
     },
     "execution_count": 8,
     "metadata": {},
     "output_type": "execute_result"
    }
   ],
   "source": [
    "df.loc[df[\"bedrooms\"] == 10]"
   ]
  },
  {
   "cell_type": "code",
   "execution_count": 9,
   "id": "b3a7134e",
   "metadata": {},
   "outputs": [
    {
     "data": {
      "text/html": [
       "<div>\n",
       "<style scoped>\n",
       "    .dataframe tbody tr th:only-of-type {\n",
       "        vertical-align: middle;\n",
       "    }\n",
       "\n",
       "    .dataframe tbody tr th {\n",
       "        vertical-align: top;\n",
       "    }\n",
       "\n",
       "    .dataframe thead th {\n",
       "        text-align: right;\n",
       "    }\n",
       "</style>\n",
       "<table border=\"1\" class=\"dataframe\">\n",
       "  <thead>\n",
       "    <tr style=\"text-align: right;\">\n",
       "      <th></th>\n",
       "      <th>date</th>\n",
       "      <th>price</th>\n",
       "      <th>bedrooms</th>\n",
       "      <th>bathrooms</th>\n",
       "      <th>sqft_living</th>\n",
       "      <th>sqft_lot</th>\n",
       "      <th>floors</th>\n",
       "      <th>waterfront</th>\n",
       "      <th>condition</th>\n",
       "      <th>grade</th>\n",
       "      <th>sqft_above</th>\n",
       "      <th>sqft_basement</th>\n",
       "      <th>yr_built</th>\n",
       "      <th>yr_renovated</th>\n",
       "      <th>zipcode</th>\n",
       "      <th>lat</th>\n",
       "      <th>long</th>\n",
       "      <th>sqft_living15</th>\n",
       "      <th>sqft_lot15</th>\n",
       "    </tr>\n",
       "    <tr>\n",
       "      <th>id</th>\n",
       "      <th></th>\n",
       "      <th></th>\n",
       "      <th></th>\n",
       "      <th></th>\n",
       "      <th></th>\n",
       "      <th></th>\n",
       "      <th></th>\n",
       "      <th></th>\n",
       "      <th></th>\n",
       "      <th></th>\n",
       "      <th></th>\n",
       "      <th></th>\n",
       "      <th></th>\n",
       "      <th></th>\n",
       "      <th></th>\n",
       "      <th></th>\n",
       "      <th></th>\n",
       "      <th></th>\n",
       "      <th></th>\n",
       "    </tr>\n",
       "  </thead>\n",
       "  <tbody>\n",
       "    <tr>\n",
       "      <th>1773100755</th>\n",
       "      <td>20140821T000000</td>\n",
       "      <td>520000.0</td>\n",
       "      <td>11</td>\n",
       "      <td>3.0</td>\n",
       "      <td>3000</td>\n",
       "      <td>4960</td>\n",
       "      <td>2.0</td>\n",
       "      <td>0</td>\n",
       "      <td>3</td>\n",
       "      <td>7</td>\n",
       "      <td>2400</td>\n",
       "      <td>600</td>\n",
       "      <td>1918</td>\n",
       "      <td>1999</td>\n",
       "      <td>98106</td>\n",
       "      <td>47.556</td>\n",
       "      <td>-122.363</td>\n",
       "      <td>1420</td>\n",
       "      <td>4960</td>\n",
       "    </tr>\n",
       "  </tbody>\n",
       "</table>\n",
       "</div>"
      ],
      "text/plain": [
       "                       date     price  bedrooms  bathrooms  sqft_living  \\\n",
       "id                                                                        \n",
       "1773100755  20140821T000000  520000.0        11        3.0         3000   \n",
       "\n",
       "            sqft_lot  floors  waterfront  condition  grade  sqft_above  \\\n",
       "id                                                                       \n",
       "1773100755      4960     2.0           0          3      7        2400   \n",
       "\n",
       "            sqft_basement  yr_built  yr_renovated  zipcode     lat     long  \\\n",
       "id                                                                            \n",
       "1773100755            600      1918          1999    98106  47.556 -122.363   \n",
       "\n",
       "            sqft_living15  sqft_lot15  \n",
       "id                                     \n",
       "1773100755           1420        4960  "
      ]
     },
     "execution_count": 9,
     "metadata": {},
     "output_type": "execute_result"
    }
   ],
   "source": [
    "df.loc[df[\"bedrooms\"] == 11]"
   ]
  },
  {
   "cell_type": "code",
   "execution_count": 10,
   "id": "6ae59fe8",
   "metadata": {},
   "outputs": [
    {
     "data": {
      "text/html": [
       "<div>\n",
       "<style scoped>\n",
       "    .dataframe tbody tr th:only-of-type {\n",
       "        vertical-align: middle;\n",
       "    }\n",
       "\n",
       "    .dataframe tbody tr th {\n",
       "        vertical-align: top;\n",
       "    }\n",
       "\n",
       "    .dataframe thead th {\n",
       "        text-align: right;\n",
       "    }\n",
       "</style>\n",
       "<table border=\"1\" class=\"dataframe\">\n",
       "  <thead>\n",
       "    <tr style=\"text-align: right;\">\n",
       "      <th></th>\n",
       "      <th>date</th>\n",
       "      <th>price</th>\n",
       "      <th>bedrooms</th>\n",
       "      <th>bathrooms</th>\n",
       "      <th>sqft_living</th>\n",
       "      <th>sqft_lot</th>\n",
       "      <th>floors</th>\n",
       "      <th>waterfront</th>\n",
       "      <th>condition</th>\n",
       "      <th>grade</th>\n",
       "      <th>sqft_above</th>\n",
       "      <th>sqft_basement</th>\n",
       "      <th>yr_built</th>\n",
       "      <th>yr_renovated</th>\n",
       "      <th>zipcode</th>\n",
       "      <th>lat</th>\n",
       "      <th>long</th>\n",
       "      <th>sqft_living15</th>\n",
       "      <th>sqft_lot15</th>\n",
       "    </tr>\n",
       "    <tr>\n",
       "      <th>id</th>\n",
       "      <th></th>\n",
       "      <th></th>\n",
       "      <th></th>\n",
       "      <th></th>\n",
       "      <th></th>\n",
       "      <th></th>\n",
       "      <th></th>\n",
       "      <th></th>\n",
       "      <th></th>\n",
       "      <th></th>\n",
       "      <th></th>\n",
       "      <th></th>\n",
       "      <th></th>\n",
       "      <th></th>\n",
       "      <th></th>\n",
       "      <th></th>\n",
       "      <th></th>\n",
       "      <th></th>\n",
       "      <th></th>\n",
       "    </tr>\n",
       "  </thead>\n",
       "  <tbody>\n",
       "    <tr>\n",
       "      <th>6306400140</th>\n",
       "      <td>20140612T000000</td>\n",
       "      <td>1095000.0</td>\n",
       "      <td>0</td>\n",
       "      <td>0.00</td>\n",
       "      <td>3064</td>\n",
       "      <td>4764</td>\n",
       "      <td>3.5</td>\n",
       "      <td>0</td>\n",
       "      <td>3</td>\n",
       "      <td>7</td>\n",
       "      <td>3064</td>\n",
       "      <td>0</td>\n",
       "      <td>1990</td>\n",
       "      <td>0</td>\n",
       "      <td>98102</td>\n",
       "      <td>47.6362</td>\n",
       "      <td>-122.322</td>\n",
       "      <td>2360</td>\n",
       "      <td>4000</td>\n",
       "    </tr>\n",
       "    <tr>\n",
       "      <th>3918400017</th>\n",
       "      <td>20150205T000000</td>\n",
       "      <td>380000.0</td>\n",
       "      <td>0</td>\n",
       "      <td>0.00</td>\n",
       "      <td>1470</td>\n",
       "      <td>979</td>\n",
       "      <td>3.0</td>\n",
       "      <td>0</td>\n",
       "      <td>3</td>\n",
       "      <td>8</td>\n",
       "      <td>1470</td>\n",
       "      <td>0</td>\n",
       "      <td>2006</td>\n",
       "      <td>0</td>\n",
       "      <td>98133</td>\n",
       "      <td>47.7145</td>\n",
       "      <td>-122.356</td>\n",
       "      <td>1470</td>\n",
       "      <td>1399</td>\n",
       "    </tr>\n",
       "    <tr>\n",
       "      <th>1453602309</th>\n",
       "      <td>20140805T000000</td>\n",
       "      <td>288000.0</td>\n",
       "      <td>0</td>\n",
       "      <td>1.50</td>\n",
       "      <td>1430</td>\n",
       "      <td>1650</td>\n",
       "      <td>3.0</td>\n",
       "      <td>0</td>\n",
       "      <td>3</td>\n",
       "      <td>7</td>\n",
       "      <td>1430</td>\n",
       "      <td>0</td>\n",
       "      <td>1999</td>\n",
       "      <td>0</td>\n",
       "      <td>98125</td>\n",
       "      <td>47.7222</td>\n",
       "      <td>-122.290</td>\n",
       "      <td>1430</td>\n",
       "      <td>1650</td>\n",
       "    </tr>\n",
       "    <tr>\n",
       "      <th>6896300380</th>\n",
       "      <td>20141002T000000</td>\n",
       "      <td>228000.0</td>\n",
       "      <td>0</td>\n",
       "      <td>1.00</td>\n",
       "      <td>390</td>\n",
       "      <td>5900</td>\n",
       "      <td>1.0</td>\n",
       "      <td>0</td>\n",
       "      <td>2</td>\n",
       "      <td>4</td>\n",
       "      <td>390</td>\n",
       "      <td>0</td>\n",
       "      <td>1953</td>\n",
       "      <td>0</td>\n",
       "      <td>98118</td>\n",
       "      <td>47.5260</td>\n",
       "      <td>-122.261</td>\n",
       "      <td>2170</td>\n",
       "      <td>6000</td>\n",
       "    </tr>\n",
       "    <tr>\n",
       "      <th>2954400190</th>\n",
       "      <td>20140624T000000</td>\n",
       "      <td>1295650.0</td>\n",
       "      <td>0</td>\n",
       "      <td>0.00</td>\n",
       "      <td>4810</td>\n",
       "      <td>28008</td>\n",
       "      <td>2.0</td>\n",
       "      <td>0</td>\n",
       "      <td>3</td>\n",
       "      <td>12</td>\n",
       "      <td>4810</td>\n",
       "      <td>0</td>\n",
       "      <td>1990</td>\n",
       "      <td>0</td>\n",
       "      <td>98053</td>\n",
       "      <td>47.6642</td>\n",
       "      <td>-122.069</td>\n",
       "      <td>4740</td>\n",
       "      <td>35061</td>\n",
       "    </tr>\n",
       "    <tr>\n",
       "      <th>2569500210</th>\n",
       "      <td>20141117T000000</td>\n",
       "      <td>339950.0</td>\n",
       "      <td>0</td>\n",
       "      <td>2.50</td>\n",
       "      <td>2290</td>\n",
       "      <td>8319</td>\n",
       "      <td>2.0</td>\n",
       "      <td>0</td>\n",
       "      <td>3</td>\n",
       "      <td>8</td>\n",
       "      <td>2290</td>\n",
       "      <td>0</td>\n",
       "      <td>1985</td>\n",
       "      <td>0</td>\n",
       "      <td>98042</td>\n",
       "      <td>47.3473</td>\n",
       "      <td>-122.151</td>\n",
       "      <td>2500</td>\n",
       "      <td>8751</td>\n",
       "    </tr>\n",
       "    <tr>\n",
       "      <th>2310060040</th>\n",
       "      <td>20140925T000000</td>\n",
       "      <td>240000.0</td>\n",
       "      <td>0</td>\n",
       "      <td>2.50</td>\n",
       "      <td>1810</td>\n",
       "      <td>5669</td>\n",
       "      <td>2.0</td>\n",
       "      <td>0</td>\n",
       "      <td>3</td>\n",
       "      <td>7</td>\n",
       "      <td>1810</td>\n",
       "      <td>0</td>\n",
       "      <td>2003</td>\n",
       "      <td>0</td>\n",
       "      <td>98038</td>\n",
       "      <td>47.3493</td>\n",
       "      <td>-122.053</td>\n",
       "      <td>1810</td>\n",
       "      <td>5685</td>\n",
       "    </tr>\n",
       "    <tr>\n",
       "      <th>3374500520</th>\n",
       "      <td>20150429T000000</td>\n",
       "      <td>355000.0</td>\n",
       "      <td>0</td>\n",
       "      <td>0.00</td>\n",
       "      <td>2460</td>\n",
       "      <td>8049</td>\n",
       "      <td>2.0</td>\n",
       "      <td>0</td>\n",
       "      <td>3</td>\n",
       "      <td>8</td>\n",
       "      <td>2460</td>\n",
       "      <td>0</td>\n",
       "      <td>1990</td>\n",
       "      <td>0</td>\n",
       "      <td>98031</td>\n",
       "      <td>47.4095</td>\n",
       "      <td>-122.168</td>\n",
       "      <td>2520</td>\n",
       "      <td>8050</td>\n",
       "    </tr>\n",
       "    <tr>\n",
       "      <th>7849202190</th>\n",
       "      <td>20141223T000000</td>\n",
       "      <td>235000.0</td>\n",
       "      <td>0</td>\n",
       "      <td>0.00</td>\n",
       "      <td>1470</td>\n",
       "      <td>4800</td>\n",
       "      <td>2.0</td>\n",
       "      <td>0</td>\n",
       "      <td>3</td>\n",
       "      <td>7</td>\n",
       "      <td>1470</td>\n",
       "      <td>0</td>\n",
       "      <td>1996</td>\n",
       "      <td>0</td>\n",
       "      <td>98065</td>\n",
       "      <td>47.5265</td>\n",
       "      <td>-121.828</td>\n",
       "      <td>1060</td>\n",
       "      <td>7200</td>\n",
       "    </tr>\n",
       "    <tr>\n",
       "      <th>7849202299</th>\n",
       "      <td>20150218T000000</td>\n",
       "      <td>320000.0</td>\n",
       "      <td>0</td>\n",
       "      <td>2.50</td>\n",
       "      <td>1490</td>\n",
       "      <td>7111</td>\n",
       "      <td>2.0</td>\n",
       "      <td>0</td>\n",
       "      <td>3</td>\n",
       "      <td>7</td>\n",
       "      <td>1490</td>\n",
       "      <td>0</td>\n",
       "      <td>1999</td>\n",
       "      <td>0</td>\n",
       "      <td>98065</td>\n",
       "      <td>47.5261</td>\n",
       "      <td>-121.826</td>\n",
       "      <td>1500</td>\n",
       "      <td>4675</td>\n",
       "    </tr>\n",
       "    <tr>\n",
       "      <th>9543000205</th>\n",
       "      <td>20150413T000000</td>\n",
       "      <td>139950.0</td>\n",
       "      <td>0</td>\n",
       "      <td>0.00</td>\n",
       "      <td>844</td>\n",
       "      <td>4269</td>\n",
       "      <td>1.0</td>\n",
       "      <td>0</td>\n",
       "      <td>4</td>\n",
       "      <td>7</td>\n",
       "      <td>844</td>\n",
       "      <td>0</td>\n",
       "      <td>1913</td>\n",
       "      <td>0</td>\n",
       "      <td>98001</td>\n",
       "      <td>47.2781</td>\n",
       "      <td>-122.250</td>\n",
       "      <td>1380</td>\n",
       "      <td>9600</td>\n",
       "    </tr>\n",
       "    <tr>\n",
       "      <th>1222029077</th>\n",
       "      <td>20141029T000000</td>\n",
       "      <td>265000.0</td>\n",
       "      <td>0</td>\n",
       "      <td>0.75</td>\n",
       "      <td>384</td>\n",
       "      <td>213444</td>\n",
       "      <td>1.0</td>\n",
       "      <td>0</td>\n",
       "      <td>3</td>\n",
       "      <td>4</td>\n",
       "      <td>384</td>\n",
       "      <td>0</td>\n",
       "      <td>2003</td>\n",
       "      <td>0</td>\n",
       "      <td>98070</td>\n",
       "      <td>47.4177</td>\n",
       "      <td>-122.491</td>\n",
       "      <td>1920</td>\n",
       "      <td>224341</td>\n",
       "    </tr>\n",
       "    <tr>\n",
       "      <th>3980300371</th>\n",
       "      <td>20140926T000000</td>\n",
       "      <td>142000.0</td>\n",
       "      <td>0</td>\n",
       "      <td>0.00</td>\n",
       "      <td>290</td>\n",
       "      <td>20875</td>\n",
       "      <td>1.0</td>\n",
       "      <td>0</td>\n",
       "      <td>1</td>\n",
       "      <td>1</td>\n",
       "      <td>290</td>\n",
       "      <td>0</td>\n",
       "      <td>1963</td>\n",
       "      <td>0</td>\n",
       "      <td>98024</td>\n",
       "      <td>47.5308</td>\n",
       "      <td>-121.888</td>\n",
       "      <td>1620</td>\n",
       "      <td>22850</td>\n",
       "    </tr>\n",
       "  </tbody>\n",
       "</table>\n",
       "</div>"
      ],
      "text/plain": [
       "                       date      price  bedrooms  bathrooms  sqft_living  \\\n",
       "id                                                                         \n",
       "6306400140  20140612T000000  1095000.0         0       0.00         3064   \n",
       "3918400017  20150205T000000   380000.0         0       0.00         1470   \n",
       "1453602309  20140805T000000   288000.0         0       1.50         1430   \n",
       "6896300380  20141002T000000   228000.0         0       1.00          390   \n",
       "2954400190  20140624T000000  1295650.0         0       0.00         4810   \n",
       "2569500210  20141117T000000   339950.0         0       2.50         2290   \n",
       "2310060040  20140925T000000   240000.0         0       2.50         1810   \n",
       "3374500520  20150429T000000   355000.0         0       0.00         2460   \n",
       "7849202190  20141223T000000   235000.0         0       0.00         1470   \n",
       "7849202299  20150218T000000   320000.0         0       2.50         1490   \n",
       "9543000205  20150413T000000   139950.0         0       0.00          844   \n",
       "1222029077  20141029T000000   265000.0         0       0.75          384   \n",
       "3980300371  20140926T000000   142000.0         0       0.00          290   \n",
       "\n",
       "            sqft_lot  floors  waterfront  condition  grade  sqft_above  \\\n",
       "id                                                                       \n",
       "6306400140      4764     3.5           0          3      7        3064   \n",
       "3918400017       979     3.0           0          3      8        1470   \n",
       "1453602309      1650     3.0           0          3      7        1430   \n",
       "6896300380      5900     1.0           0          2      4         390   \n",
       "2954400190     28008     2.0           0          3     12        4810   \n",
       "2569500210      8319     2.0           0          3      8        2290   \n",
       "2310060040      5669     2.0           0          3      7        1810   \n",
       "3374500520      8049     2.0           0          3      8        2460   \n",
       "7849202190      4800     2.0           0          3      7        1470   \n",
       "7849202299      7111     2.0           0          3      7        1490   \n",
       "9543000205      4269     1.0           0          4      7         844   \n",
       "1222029077    213444     1.0           0          3      4         384   \n",
       "3980300371     20875     1.0           0          1      1         290   \n",
       "\n",
       "            sqft_basement  yr_built  yr_renovated  zipcode      lat     long  \\\n",
       "id                                                                             \n",
       "6306400140              0      1990             0    98102  47.6362 -122.322   \n",
       "3918400017              0      2006             0    98133  47.7145 -122.356   \n",
       "1453602309              0      1999             0    98125  47.7222 -122.290   \n",
       "6896300380              0      1953             0    98118  47.5260 -122.261   \n",
       "2954400190              0      1990             0    98053  47.6642 -122.069   \n",
       "2569500210              0      1985             0    98042  47.3473 -122.151   \n",
       "2310060040              0      2003             0    98038  47.3493 -122.053   \n",
       "3374500520              0      1990             0    98031  47.4095 -122.168   \n",
       "7849202190              0      1996             0    98065  47.5265 -121.828   \n",
       "7849202299              0      1999             0    98065  47.5261 -121.826   \n",
       "9543000205              0      1913             0    98001  47.2781 -122.250   \n",
       "1222029077              0      2003             0    98070  47.4177 -122.491   \n",
       "3980300371              0      1963             0    98024  47.5308 -121.888   \n",
       "\n",
       "            sqft_living15  sqft_lot15  \n",
       "id                                     \n",
       "6306400140           2360        4000  \n",
       "3918400017           1470        1399  \n",
       "1453602309           1430        1650  \n",
       "6896300380           2170        6000  \n",
       "2954400190           4740       35061  \n",
       "2569500210           2500        8751  \n",
       "2310060040           1810        5685  \n",
       "3374500520           2520        8050  \n",
       "7849202190           1060        7200  \n",
       "7849202299           1500        4675  \n",
       "9543000205           1380        9600  \n",
       "1222029077           1920      224341  \n",
       "3980300371           1620       22850  "
      ]
     },
     "execution_count": 10,
     "metadata": {},
     "output_type": "execute_result"
    }
   ],
   "source": [
    "df.loc[df[\"bedrooms\"] == 0]"
   ]
  },
  {
   "cell_type": "markdown",
   "id": "99da8c3b",
   "metadata": {},
   "source": [
    "#### It is possible to have a big property that has 33 or 11 or 10 rooms because the square of the property are big as well. "
   ]
  },
  {
   "cell_type": "code",
   "execution_count": 11,
   "id": "8b5d4888",
   "metadata": {},
   "outputs": [
    {
     "data": {
      "text/plain": [
       "array([1.  , 2.25, 3.  , 2.  , 4.5 , 1.5 , 2.5 , 1.75, 2.75, 3.25, 4.  ,\n",
       "       3.5 , 0.75, 4.75, 5.  , 4.25, 3.75, 0.  , 1.25, 5.25, 6.  , 0.5 ,\n",
       "       5.5 , 6.75, 5.75, 8.  , 7.5 , 7.75, 6.25, 6.5 ])"
      ]
     },
     "execution_count": 11,
     "metadata": {},
     "output_type": "execute_result"
    }
   ],
   "source": [
    "df[\"bathrooms\"].unique()"
   ]
  },
  {
   "cell_type": "markdown",
   "id": "4f25ed49",
   "metadata": {},
   "source": [
    "#### The number of bathrooms is weird since the number of bathrooms by itself does not affect the price of the property so I decided to remove it."
   ]
  },
  {
   "cell_type": "code",
   "execution_count": 12,
   "id": "35e25acb",
   "metadata": {},
   "outputs": [],
   "source": [
    "df=df.drop(\"bathrooms\",axis=1)"
   ]
  },
  {
   "cell_type": "code",
   "execution_count": 13,
   "id": "cac61bd1",
   "metadata": {},
   "outputs": [
    {
     "data": {
      "text/plain": [
       "array([ 5650,  7242, 10000, ...,  5813,  2388,  1076])"
      ]
     },
     "execution_count": 13,
     "metadata": {},
     "output_type": "execute_result"
    }
   ],
   "source": [
    "df[\"sqft_lot\"].unique()"
   ]
  },
  {
   "cell_type": "code",
   "execution_count": 14,
   "id": "f184ec6b",
   "metadata": {},
   "outputs": [
    {
     "data": {
      "text/plain": [
       "array([ 5650,  7242, 10000, ...,  5813,  2388,  1076])"
      ]
     },
     "execution_count": 14,
     "metadata": {},
     "output_type": "execute_result"
    }
   ],
   "source": [
    "df[\"sqft_lot\"].unique()"
   ]
  },
  {
   "cell_type": "code",
   "execution_count": 15,
   "id": "3fa05f6a",
   "metadata": {},
   "outputs": [
    {
     "data": {
      "text/plain": [
       "array([1. , 2. , 1.5, 3. , 2.5, 3.5])"
      ]
     },
     "execution_count": 15,
     "metadata": {},
     "output_type": "execute_result"
    }
   ],
   "source": [
    "df[\"floors\"].unique()"
   ]
  },
  {
   "cell_type": "markdown",
   "id": "35f9f86f",
   "metadata": {},
   "source": [
    "#### It is possible to have a half floor so there is not missing values."
   ]
  },
  {
   "cell_type": "code",
   "execution_count": 16,
   "id": "5349eac7",
   "metadata": {},
   "outputs": [
    {
     "data": {
      "text/plain": [
       "array([3, 5, 4, 1, 2])"
      ]
     },
     "execution_count": 16,
     "metadata": {},
     "output_type": "execute_result"
    }
   ],
   "source": [
    "df[\"condition\"].unique()"
   ]
  },
  {
   "cell_type": "code",
   "execution_count": 17,
   "id": "666e2509",
   "metadata": {},
   "outputs": [
    {
     "data": {
      "text/plain": [
       "array([ 7,  6,  8, 11,  9,  5, 10, 12,  4,  3, 13,  1])"
      ]
     },
     "execution_count": 17,
     "metadata": {},
     "output_type": "execute_result"
    }
   ],
   "source": [
    "df[\"grade\"].unique()"
   ]
  },
  {
   "cell_type": "code",
   "execution_count": 18,
   "id": "3c47c8f1",
   "metadata": {},
   "outputs": [
    {
     "data": {
      "text/plain": [
       "array([1180, 2170,  770, 1050, 1680, 3890, 1715, 1060, 1890, 1860,  860,\n",
       "       1430, 1370, 1810, 1980, 1600, 1200, 1250, 2330, 2270, 1070, 2450,\n",
       "       1710, 1750, 1400,  790, 2570, 2320, 1190, 1510, 1090, 1280,  930,\n",
       "       2360,  890, 2620, 2600, 3595, 1570,  920, 3160,  990, 2290, 2165,\n",
       "       1640, 1000, 2130, 2830, 2250, 2420, 3250, 1850, 1590, 1260, 2519,\n",
       "       1540, 1110, 1770, 2720, 2240, 3070, 2380, 2390,  880, 1040,  910,\n",
       "       3450, 2350, 1900, 1010,  960, 2660, 1610,  765, 3520, 1290, 1960,\n",
       "       1160, 1210, 1270, 1440, 2190, 2920, 1460, 1170, 1240, 3140, 2030,\n",
       "       2310,  700, 1080, 2520, 2780, 1560, 1450, 1720, 2910, 1620, 1360,\n",
       "       2070, 2460, 1390, 2140, 1320, 1340, 1550,  940, 1380, 3670, 2370,\n",
       "       1130,  980, 3540, 2500, 1760, 1030, 1780, 3400, 2680, 1670, 2590,\n",
       "        820, 1220, 2440, 2090, 1100, 1330, 1420, 1690, 2150, 1910, 1350,\n",
       "       1940,  900, 1630, 2714,  850, 1870, 1950, 2760, 2020, 1120, 1480,\n",
       "       1230, 2280, 3760, 3530,  830, 1300, 2740, 1830,  720, 2010, 3360,\n",
       "        800, 1730,  760, 1700, 4750, 5310,  580, 2653, 2850, 2210, 2630,\n",
       "       3500, 1740, 1140, 2160, 2650,  970, 2040, 2180, 2220, 1660, 3370,\n",
       "       2690, 1930, 3150, 3030, 2050, 2490, 2560, 1275, 2580,  560, 1820,\n",
       "       1840, 2990, 3230, 1580, 3480, 2510, 1410, 2120, 3300, 3840, 1500,\n",
       "       1530, 2840,  833, 2000, 6070,  950, 2200, 4040, 1920, 1490, 3470,\n",
       "       3130, 2610, 3260, 2260,  430, 3390,  630, 4860, 3860, 2810,  870,\n",
       "       3180, 2770, 4030, 4410, 2400, 1520, 3040, 6050, 4740, 1970, 5403,\n",
       "       3350, 3580, 1790,  750, 2860, 2750, 2340, 2870, 4120, 3200, 2550,\n",
       "       1805, 4150, 1384, 2060, 2110, 3590, 2100, 2540, 1880, 1150, 1470,\n",
       "       1255, 1800, 4370, 3190, 2730, 4570, 2470,  670, 2900, 4670, 4230,\n",
       "       2156, 1020, 2940, 2640, 2710, 3100, 3610, 4270,  840, 3090, 2300,\n",
       "        380, 2480, 3460, 3060, 3064, 3000, 1654, 2790, 1310, 2230, 2430,\n",
       "       3680, 2670, 2208,  810,  740, 1422,  490, 2080, 3440, 5670, 4475,\n",
       "        730, 3410, 3010,  600, 2960, 3570, 4300, 3990,  780, 3020, 5990,\n",
       "        440, 4460, 4190, 2800, 2530, 1650, 3690, 2932, 3720, 4250, 3110,\n",
       "       2963, 4930, 2950, 5000, 2452, 2820, 1981,  640, 2495, 2403, 5320,\n",
       "       6720,  660, 2341, 4210, 3830, 3280, 2980, 5153, 1990, 1646,  610,\n",
       "        710, 5450, 3504, 3210, 1782, 2930,  590, 4280,  680, 3880, 3430,\n",
       "       3750, 4130, 5710, 3380, 3330, 4700, 3220, 3362, 3510, 3810,  620,\n",
       "       4490, 2410, 3050, 1008, 3488, 4070, 3420, 5770, 1605,  520, 1088,\n",
       "       3555, 4360, 3960, 2700, 4340, 1552, 3850, 2303, 3270, 4350, 3640,\n",
       "       2174, 4160, 2496, 5180, 5130, 6350, 3770, 2153, 3780, 2890, 1714,\n",
       "       2201, 2970,  992, 3950, 3527, 2835, 3915, 1427, 4870, 3340, 3620,\n",
       "       4310, 3930, 4080, 5400,  570, 3310, 6110, 3320, 3490, 3859, 3710,\n",
       "       1798, 4600, 3560, 3940, 3600, 3800, 1105, 2305, 3290, 5050, 1556,\n",
       "       1553, 4000, 1657, 3001, 4220,  480, 3120, 3740,  530, 3700, 5230,\n",
       "       5370, 3080, 4140, 4430, 3550, 1159, 1288, 2880, 4610, 1122, 3052,\n",
       "       1479, 7680, 3820, 1934, 5080, 2675, 2506, 5760, 2154, 4390, 3240,\n",
       "       1995, 1689, 2782, 2395, 4400, 6200, 3526, 4320, 2483, 4380, 4580,\n",
       "       4180, 2064, 3650, 1726, 2019, 4240, 1256,  500, 1355, 1747, 1678,\n",
       "       1833, 1414, 4115, 3597, 3170,  390, 1976, 5830, 2601, 3920, 2641,\n",
       "       5070, 2518, 3910, 3660, 3695, 4020, 2803, 2074, 2038, 4060, 4890,\n",
       "       2329, 1264, 1095,  690, 4090, 1392, 2844,  902, 4560, 2811, 4720,\n",
       "       2168, 5610, 2683, 4900, 2095, 4290, 4050, 4260, 4440, 6220, 1175,\n",
       "        998, 2356, 4500, 3900, 3831, 1315, 4470, 4810, 2286, 2927, 4760,\n",
       "       8570, 5140, 1679, 1811, 2849, 1676, 1757, 3730, 2441, 2163, 5250,\n",
       "       2795, 2415, 3970, 4200, 1068, 5240, 1509, 1954, 4820, 1651, 4100,\n",
       "       1752, 3630, 2885, 3154, 1129, 2632, 1996, 4010,  550,  410, 6430,\n",
       "       3790, 2031, 1652, 2434, 3316, 1899, 2331, 2497, 2216, 4170, 1341,\n",
       "       1961, 5584, 8860, 2507, 5220, 4850, 5844, 5530, 2145,  650, 1982,\n",
       "       4910, 3605, 1778, 1463, 2783, 1946, 1358, 3870, 1864, 1845, 6290,\n",
       "       3980, 2382, 2979, 3674, 2726, 5440, 1295, 2115, 6085, 3265, 3136,\n",
       "       6640, 4620, 3361, 2245, 2242, 1078, 2577, 1329,  420, 4330, 1975,\n",
       "       7420, 1788, 2299, 1092, 4225, 1087, 1904,  470, 2966, 2192, 2253,\n",
       "       5550, 4133, 4285, 1216,  540, 9410, 2075, 5330, 2166, 1628, 1808,\n",
       "       1352, 2557, 6380, 7880, 2734, 1363, 1769, 2093, 1677, 2588, 5190,\n",
       "       2298, 1491, 2961, 5020, 5980, 4540,  844, 6120, 2233, 4480, 4110,\n",
       "       4770, 2473,  995, 5160, 1494, 2007, 1048, 3002, 4780, 2155, 2014,\n",
       "       4980, 2665, 4830, 4790, 5010,  370, 2105, 3006, 3004, 2689, 4660,\n",
       "       1746, 2678, 2755, 2414,  901, 4630, 2068, 2807, 2643, 2181, 4510,\n",
       "       4420, 1604, 1435, 3045, 2717, 2905, 4940, 5110, 2533, 6660, 3485,\n",
       "       2659, 5090, 2375, 1964,  866, 1595,  944, 5480,  809, 5040, 1764,\n",
       "       1656, 1802,  460, 2692, 1544, 2044, 1212, 4083, 8020, 3905, 1502,\n",
       "       4590,  384, 2092, 6090, 1615, 7320, 1396, 1484, 1765, 5490, 1453,\n",
       "       1643, 5300, 1381, 4065,  290, 1313, 5430, 1397, 2793, 2475, 1936,\n",
       "       3028,  798, 2575, 3276, 1584, 2393, 2029, 3222, 1072, 1785, 1984,\n",
       "        962, 2423, 2052, 2538, 2437, 2789, 2906, 4800, 7850, 2196, 1847,\n",
       "       2658, 2655, 3855, 1728,  963, 2223, 1611, 2015, 2448, 1489, 1116,\n",
       "       3745, 1002, 3202, 1347, 1481, 2311, 2544, 2584, 2217, 3569, 3181,\n",
       "       1921, 2612, 2671, 2598, 3284, 3266, 1076, 2594, 2718, 1794, 2481,\n",
       "       3845, 1413, 1876, 3148, 2413, 1767, 5060,  806, 2547, 1834, 2024,\n",
       "       1165, 2134, 1741, 2798, 1852, 2099, 3216, 1094, 2891, 2432, 2283,\n",
       "       2701, 1658,  893, 2009, 1444, 2744, 3078, 3065, 1578, 2815, 4960,\n",
       "       1571, 6530, 4640, 1536, 3172, 6370, 3223, 1608, 2229, 3135, 1408,\n",
       "       1763, 4840, 1232, 2502, 2424, 1296, 1914,  988, 3828, 3056, 2267,\n",
       "       1131, 2796, 1812, 1084, 2025, 1564, 1239, 2568, 1528, 2628, 2185,\n",
       "       2478, 2669, 1912, 2828, 2425, 1446, 3206, 2406, 1419, 2056, 1144,\n",
       "       2456, 4950, 3192,  828, 2529, 2732, 1987, 3906, 4073, 2578, 2738,\n",
       "       3691, 1061, 2846, 2542, 1889, 3336, 3236, 1451, 1983, 2313, 1824,\n",
       "       1322, 1766, 2301, 3274, 1108, 2864, 2716, 1572, 3281, 2656, 2398,\n",
       "       1867, 1613, 2587, 2623,  894, 1606, 2244, 2026, 2238, 2517, 2708,\n",
       "       2555, 1405, 4450, 1248, 6420, 2531, 1333, 2198, 3087, 3118, 1425])"
      ]
     },
     "execution_count": 18,
     "metadata": {},
     "output_type": "execute_result"
    }
   ],
   "source": [
    "df[\"sqft_above\"].unique()"
   ]
  },
  {
   "cell_type": "code",
   "execution_count": 19,
   "id": "ea82cf5d",
   "metadata": {},
   "outputs": [
    {
     "data": {
      "text/plain": [
       "array([   0,  400,  910, 1530,  730, 1700,  300,  970,  760,  720,  700,\n",
       "        820,  780,  790,  330, 1620,  360,  588, 1510,  410,  990,  600,\n",
       "        560,  550, 1000, 1600,  500, 1040,  880, 1010,  240,  265,  290,\n",
       "        800,  540,  380,  710,  840,  770,  480,  570, 1490,  620, 1250,\n",
       "       1270,  120,  650,  180, 1130,  450, 1640, 1460, 1020, 1030,  750,\n",
       "        640, 1070,  490, 1310,  630, 2000,  390,  430,  850,  210, 1430,\n",
       "       1950,  440,  220, 1160,  860,  580, 2060, 1820, 1180,  200, 1150,\n",
       "       1200,  680,  530, 1450, 1170, 1080,  960, 1100,  280,  870,  460,\n",
       "       1400, 1320,  660, 1220,  900,  420, 1580, 1380,  475,  690,  270,\n",
       "        350,  935, 1370,  980, 1470,  160,  950,   50,  740, 1780, 1900,\n",
       "        340,  470,  370,  140, 1760,  130,  610,  520,  890, 1110,  150,\n",
       "       1720,  810,  190, 1290,  670, 1800, 1120, 1810,   60, 1050,  940,\n",
       "        310,  930, 1390, 1830, 1300,  510, 1330, 1590,  920, 1420, 1240,\n",
       "       1960, 1560, 2020, 1190, 2110, 1280,  250, 2390, 1230,  170,  830,\n",
       "       1260, 1410, 1340,  590, 1500, 1140,  260,  100,  320, 1480, 1060,\n",
       "       1284, 1670, 1350, 2570, 2590, 1090,  110, 2500,   90, 1940, 1550,\n",
       "       2350, 2490, 1481, 1360, 1135, 1520, 1850, 1660, 2130, 2600, 1690,\n",
       "        243, 1210, 2620, 1024, 1798, 1610, 1440, 1570, 1650,  704, 1910,\n",
       "       1630, 2360, 1852, 2090, 2400, 1790, 2150,  230,   70, 1680, 2100,\n",
       "       3000, 1870, 1710, 2030,  875, 1540, 2850, 2170,  506,  906,  145,\n",
       "       2040,  784, 1750,  374,  518, 2720, 2730, 1840, 3480, 2160, 1920,\n",
       "       2330, 1860, 2050, 4820, 1913,   80, 2010, 3260, 2200,  415, 1730,\n",
       "        652, 2196, 1930,  515,   40, 2080, 2580, 1548, 1740,  235,  861,\n",
       "       1890, 2220,  792, 2070, 4130, 2250, 2240,  894, 1990,  768, 2550,\n",
       "        435, 1008, 2300, 2610,  666, 3500,  172, 1816, 2190, 1245, 1525,\n",
       "       1880,  862,  946, 1281,  414, 2180,  276, 1248,  602,  516,  176,\n",
       "        225, 1275,  266,  283,   65, 2310,   10, 1770, 2120,  295,  207,\n",
       "        915,  556,  417,  143,  508, 2810,   20,  274,  248])"
      ]
     },
     "execution_count": 19,
     "metadata": {},
     "output_type": "execute_result"
    }
   ],
   "source": [
    "df[\"sqft_basement\"].unique()"
   ]
  },
  {
   "cell_type": "code",
   "execution_count": 20,
   "id": "b7d36a18",
   "metadata": {},
   "outputs": [
    {
     "data": {
      "text/plain": [
       "array([98178, 98125, 98028, 98136, 98074, 98053, 98003, 98198, 98146,\n",
       "       98038, 98007, 98115, 98107, 98126, 98019, 98103, 98002, 98133,\n",
       "       98040, 98092, 98030, 98119, 98112, 98052, 98027, 98117, 98058,\n",
       "       98001, 98056, 98166, 98023, 98070, 98148, 98105, 98042, 98008,\n",
       "       98059, 98122, 98144, 98004, 98005, 98034, 98075, 98116, 98010,\n",
       "       98118, 98199, 98032, 98045, 98102, 98077, 98108, 98168, 98177,\n",
       "       98065, 98029, 98006, 98109, 98022, 98033, 98155, 98024, 98011,\n",
       "       98031, 98106, 98072, 98188, 98014, 98055, 98039])"
      ]
     },
     "execution_count": 20,
     "metadata": {},
     "output_type": "execute_result"
    }
   ],
   "source": [
    "df[\"zipcode\"].unique()"
   ]
  },
  {
   "cell_type": "code",
   "execution_count": 21,
   "id": "1c8b51eb",
   "metadata": {},
   "outputs": [
    {
     "data": {
      "text/plain": [
       "array([1955, 1951, 1933, 1965, 1987, 2001, 1995, 1963, 1960, 2003, 1942,\n",
       "       1927, 1977, 1900, 1979, 1994, 1916, 1921, 1969, 1947, 1968, 1985,\n",
       "       1941, 1915, 1909, 1948, 2005, 1929, 1981, 1930, 1904, 1996, 2000,\n",
       "       1984, 2014, 1922, 1959, 1966, 1953, 1950, 2008, 1991, 1954, 1973,\n",
       "       1925, 1989, 1972, 1986, 1956, 2002, 1992, 1964, 1952, 1961, 2006,\n",
       "       1988, 1962, 1939, 1946, 1967, 1975, 1980, 1910, 1983, 1978, 1905,\n",
       "       1971, 2010, 1945, 1924, 1990, 1914, 1926, 2004, 1923, 2007, 1976,\n",
       "       1949, 1999, 1901, 1993, 1920, 1997, 1943, 1957, 1940, 1918, 1928,\n",
       "       1974, 1911, 1936, 1937, 1982, 1908, 1931, 1998, 1913, 2013, 1907,\n",
       "       1958, 2012, 1912, 2011, 1917, 1932, 1944, 1902, 2009, 1903, 1970,\n",
       "       2015, 1934, 1938, 1919, 1906, 1935])"
      ]
     },
     "execution_count": 21,
     "metadata": {},
     "output_type": "execute_result"
    }
   ],
   "source": [
    "df[\"yr_built\"].unique()"
   ]
  },
  {
   "cell_type": "code",
   "execution_count": 22,
   "id": "9a320232",
   "metadata": {},
   "outputs": [
    {
     "data": {
      "text/plain": [
       "array([   0, 1991, 2002, 2010, 1999, 1992, 2013, 1994, 1978, 2005, 2008,\n",
       "       2003, 1984, 1954, 2014, 2011, 1974, 1983, 1945, 1990, 1988, 1957,\n",
       "       1977, 1981, 1995, 2000, 1998, 1970, 1989, 2004, 1986, 2009, 2007,\n",
       "       1987, 1973, 2006, 1985, 2001, 1980, 1971, 1979, 1997, 1950, 1969,\n",
       "       1948, 2015, 1968, 2012, 1963, 1951, 1993, 1962, 1996, 1972, 1953,\n",
       "       1955, 1982, 1956, 1940, 1976, 1946, 1975, 1958, 1964, 1959, 1960,\n",
       "       1967, 1965, 1934, 1944])"
      ]
     },
     "execution_count": 22,
     "metadata": {},
     "output_type": "execute_result"
    }
   ],
   "source": [
    "df[\"yr_renovated\"].unique()"
   ]
  },
  {
   "cell_type": "code",
   "execution_count": 23,
   "id": "349e076d",
   "metadata": {},
   "outputs": [
    {
     "data": {
      "text/plain": [
       "array([47.5112, 47.721 , 47.7379, ..., 47.3906, 47.3339, 47.6502])"
      ]
     },
     "execution_count": 23,
     "metadata": {},
     "output_type": "execute_result"
    }
   ],
   "source": [
    "df[\"lat\"].unique()"
   ]
  },
  {
   "cell_type": "code",
   "execution_count": 24,
   "id": "73baac7c",
   "metadata": {},
   "outputs": [
    {
     "data": {
      "text/plain": [
       "array([-122.257, -122.319, -122.233, -122.393, -122.045, -122.005,\n",
       "       -122.327, -122.315, -122.337, -122.031, -122.145, -122.292,\n",
       "       -122.229, -122.394, -122.375, -121.962, -122.343, -122.21 ,\n",
       "       -122.306, -122.341, -122.169, -122.166, -122.172, -122.218,\n",
       "       -122.36 , -122.314, -122.304, -122.11 , -122.07 , -122.357,\n",
       "       -122.368, -122.157, -122.31 , -122.132, -122.362, -122.282,\n",
       "       -122.18 , -122.027, -122.347, -122.016, -122.364, -122.175,\n",
       "       -121.977, -122.371, -122.151, -122.301, -122.451, -122.322,\n",
       "       -122.189, -122.384, -122.369, -122.281, -122.29 , -122.114,\n",
       "       -122.122, -122.116, -122.149, -122.339, -122.335, -122.344,\n",
       "       -122.32 , -122.297, -122.192, -122.215, -122.16 , -122.179,\n",
       "       -122.287, -122.036, -122.073, -121.987, -122.125, -122.34 ,\n",
       "       -122.025, -122.008, -122.291, -122.365, -122.199, -122.194,\n",
       "       -122.387, -122.372, -122.391, -122.351, -122.386, -122.249,\n",
       "       -122.277, -122.378, -121.958, -121.714, -122.08 , -122.196,\n",
       "       -122.184, -122.133, -122.38 , -122.082, -122.109, -122.053,\n",
       "       -122.349, -122.295, -122.253, -122.248, -122.303, -122.294,\n",
       "       -122.226, -122.266, -122.098, -122.212, -122.244, -122.39 ,\n",
       "       -122.352, -121.85 , -122.152, -122.054, -122.072, -121.998,\n",
       "       -122.296, -122.299, -122.381, -122.358, -122.128, -122.171,\n",
       "       -122.174, -122.026, -122.353, -121.943, -122.286, -122.336,\n",
       "       -122.359, -122.162, -122.3  , -122.176, -121.996, -122.118,\n",
       "       -122.193, -122.023, -122.224, -122.168, -122.231, -122.331,\n",
       "       -122.374, -122.182, -122.308, -122.307, -121.999, -122.376,\n",
       "       -122.2  , -122.039, -122.102, -122.188, -122.379, -122.043,\n",
       "       -122.153, -122.191, -122.219, -122.312, -121.911, -121.994,\n",
       "       -122.165, -122.37 , -122.158, -122.047, -122.284, -122.017,\n",
       "       -122.275, -122.268, -122.367, -122.217, -122.373, -122.013,\n",
       "       -122.214, -122.034, -122.164, -121.899, -122.183, -121.95 ,\n",
       "       -122.324, -122.216, -122.395, -122.213, -122.345, -122.278,\n",
       "       -122.111, -121.711, -122.27 , -122.178, -122.147, -121.772,\n",
       "       -122.302, -122.438, -122.223, -122.042, -122.323, -122.255,\n",
       "       -122.4  , -122.261, -122.071, -122.206, -122.272, -122.23 ,\n",
       "       -122.144, -122.143, -122.181, -122.154, -122.311, -122.274,\n",
       "       -122.077, -122.   , -122.298, -122.058, -121.837, -122.333,\n",
       "       -122.057, -122.252, -122.093, -122.012, -122.052, -122.354,\n",
       "       -122.22 , -122.49 , -121.875, -122.24 , -122.078, -122.173,\n",
       "       -121.854, -122.222, -122.28 , -122.137, -122.159, -121.974,\n",
       "       -122.141, -122.029, -121.709, -122.19 , -121.97 , -122.329,\n",
       "       -122.195, -122.06 , -121.959, -122.095, -122.148, -122.146,\n",
       "       -122.35 , -121.901, -122.241, -122.129, -122.289, -122.305,\n",
       "       -122.022, -122.385, -121.779, -122.032, -122.402, -122.482,\n",
       "       -122.227, -121.982, -122.161, -122.046, -122.156, -122.127,\n",
       "       -122.33 , -122.197, -122.041, -122.103, -122.318, -122.382,\n",
       "       -122.271, -121.955, -122.211, -122.262, -122.258, -122.121,\n",
       "       -122.221, -122.234, -122.089, -122.123, -122.167, -121.909,\n",
       "       -122.107, -122.064, -122.066, -122.062, -122.264, -122.186,\n",
       "       -122.087, -121.88 , -121.864, -122.205, -122.363, -122.139,\n",
       "       -122.018, -122.225, -122.285, -122.084, -122.177, -122.056,\n",
       "       -122.316, -122.021, -122.348, -122.009, -122.131, -122.411,\n",
       "       -122.198, -122.256, -122.117, -122.097, -122.075, -121.845,\n",
       "       -122.083, -122.259, -121.87 , -122.015, -122.007, -121.86 ,\n",
       "       -122.409, -121.755, -121.972, -122.251, -122.317, -121.776,\n",
       "       -122.115, -122.283, -122.242, -122.001, -122.024, -122.309,\n",
       "       -122.113, -121.771, -122.239, -122.273, -122.396, -122.094,\n",
       "       -122.267, -122.326, -122.13 , -122.269, -121.853, -122.05 ,\n",
       "       -122.346, -122.076, -121.826, -122.124, -121.758, -122.202,\n",
       "       -121.785, -121.872, -122.006, -122.004, -122.321, -121.882,\n",
       "       -122.101, -122.03 , -122.185, -122.1  , -121.759, -121.965,\n",
       "       -122.201, -122.366, -122.313, -122.405, -122.02 , -122.279,\n",
       "       -122.355, -121.934, -122.15 , -122.356, -121.993, -122.044,\n",
       "       -122.134, -121.867, -122.01 , -121.991, -122.011, -121.983,\n",
       "       -122.228, -122.033, -122.276, -122.119, -121.937, -122.361,\n",
       "       -122.325, -122.203, -122.136, -122.237, -122.209, -122.049,\n",
       "       -122.288, -122.106, -122.037, -122.207, -122.263, -121.915,\n",
       "       -122.204, -122.09 , -122.069, -121.852, -121.787, -121.976,\n",
       "       -122.377, -122.059, -122.383, -121.989, -122.019, -122.208,\n",
       "       -121.878, -122.328, -122.25 , -122.338, -122.388, -122.265,\n",
       "       -122.332, -122.399, -122.397, -122.014, -121.956, -122.092,\n",
       "       -122.028, -122.293, -122.12 , -122.035, -122.14 , -122.04 ,\n",
       "       -122.112, -121.906, -122.17 , -122.238, -122.512, -121.997,\n",
       "       -121.89 , -122.463, -121.908, -122.086, -122.389, -121.913,\n",
       "       -122.163, -121.918, -122.108, -122.502, -122.392, -122.236,\n",
       "       -121.859, -121.981, -122.342, -121.96 , -121.978, -122.47 ,\n",
       "       -121.91 , -121.966, -122.065, -122.246, -122.41 , -121.879,\n",
       "       -122.079, -122.099, -122.187, -121.98 , -122.002, -122.138,\n",
       "       -121.898, -122.235, -122.126, -121.782, -121.995, -122.401,\n",
       "       -121.858, -121.888, -121.752, -122.063, -122.26 , -121.78 ,\n",
       "       -121.708, -121.721, -122.403, -121.945, -122.243, -122.45 ,\n",
       "       -121.927, -122.085, -122.088, -121.973, -122.055, -122.398,\n",
       "       -121.984, -121.912, -121.903, -121.946, -122.232, -122.412,\n",
       "       -122.104, -122.048, -122.479, -122.155, -121.833, -121.778,\n",
       "       -122.003, -121.99 , -121.926, -122.051, -121.986, -122.245,\n",
       "       -121.861, -122.431, -121.964, -122.142, -122.074, -122.247,\n",
       "       -122.497, -121.769, -121.827, -121.979, -121.871, -122.091,\n",
       "       -121.754, -121.746, -121.92 , -121.992, -122.406, -121.359,\n",
       "       -121.789, -121.707, -122.068, -122.404, -122.334, -121.799,\n",
       "       -121.774, -121.985, -121.865, -121.724, -122.415, -121.756,\n",
       "       -121.809, -122.135, -121.691, -122.038, -121.877, -121.94 ,\n",
       "       -121.968, -121.988, -121.315, -121.902, -122.514, -122.414,\n",
       "       -121.883, -121.866, -121.744, -122.096, -122.061, -121.881,\n",
       "       -121.745, -122.461, -122.067, -121.868, -121.646, -121.93 ,\n",
       "       -122.105, -121.763, -121.718, -121.967, -121.777, -121.957,\n",
       "       -121.823, -121.887, -122.408, -122.462, -122.43 , -122.456,\n",
       "       -121.897, -121.932, -121.969, -121.916, -122.081, -121.975,\n",
       "       -121.735, -121.801, -121.761, -121.723, -121.924, -122.475,\n",
       "       -121.935, -122.407, -122.448, -122.453, -121.894, -121.936,\n",
       "       -121.764, -122.416, -121.905, -122.464, -121.768, -122.484,\n",
       "       -121.738, -121.9  , -121.82 , -122.455, -121.889, -122.496,\n",
       "       -121.829, -122.505, -121.951, -121.847, -122.509, -121.961,\n",
       "       -121.417, -121.904, -122.503, -121.949, -121.874, -122.432,\n",
       "       -121.971, -121.77 , -122.473, -121.896, -121.952, -122.254,\n",
       "       -121.743, -121.933, -121.892, -121.749, -121.473, -121.857,\n",
       "       -122.465, -121.838, -121.954, -122.422, -121.931, -121.963,\n",
       "       -122.441, -121.925, -121.352, -122.511, -122.413, -121.876,\n",
       "       -121.748, -121.818, -121.8  , -121.929, -121.698, -121.886,\n",
       "       -121.802, -121.81 , -121.762, -121.781, -121.775, -122.44 ,\n",
       "       -121.773, -121.819, -121.726, -122.459, -122.446, -121.855,\n",
       "       -121.736, -122.499, -122.46 , -121.786, -122.421, -121.947,\n",
       "       -122.439, -121.834, -121.804, -122.443, -121.716, -121.848,\n",
       "       -122.458, -122.515, -121.922, -121.953, -121.783, -122.472,\n",
       "       -121.944, -121.869, -121.828, -122.452, -121.831, -121.737,\n",
       "       -121.739, -121.863, -121.73 , -121.856, -121.747, -121.893,\n",
       "       -121.733, -121.846, -121.821, -121.319, -121.765, -121.75 ,\n",
       "       -122.506, -121.948, -121.921, -122.507, -122.457, -121.914,\n",
       "       -122.469, -121.792, -121.907, -121.841, -121.757, -121.788,\n",
       "       -121.731, -122.449, -121.316, -121.321, -122.504, -121.884,\n",
       "       -121.803, -121.842, -121.719, -121.766, -122.433, -122.519,\n",
       "       -121.851, -121.402, -122.454, -122.467, -121.325, -121.815,\n",
       "       -121.676, -121.941, -122.445, -121.76 , -121.885, -121.742,\n",
       "       -121.822, -121.895, -121.784, -121.701, -121.713, -121.727,\n",
       "       -121.849, -121.835, -122.435, -122.474, -122.444, -121.939,\n",
       "       -121.48 , -121.364, -121.767, -122.42 , -121.84 , -122.425,\n",
       "       -122.447, -121.797, -122.491, -121.917, -121.891, -121.942,\n",
       "       -121.862, -121.725, -121.873, -121.405, -122.486, -121.795,\n",
       "       -121.734, -121.403])"
      ]
     },
     "execution_count": 24,
     "metadata": {},
     "output_type": "execute_result"
    }
   ],
   "source": [
    "df[\"long\"].unique()"
   ]
  },
  {
   "cell_type": "code",
   "execution_count": 25,
   "id": "1f48eb2b",
   "metadata": {},
   "outputs": [
    {
     "data": {
      "text/plain": [
       "array([1340, 1690, 2720, 1360, 1800, 4760, 2238, 1650, 1780, 2390, 2210,\n",
       "       1330, 1370, 2140, 1890, 1610, 1060, 1280, 1400, 4110, 2240, 1220,\n",
       "       2200, 1030, 1760, 1860, 1520, 2630, 2580, 1390, 1460, 1570, 2020,\n",
       "       1590, 2160, 1730, 1290, 2620, 2470, 2410, 3625, 1580, 3050, 1228,\n",
       "       2680,  970, 1190, 1990, 1410, 1480, 2730, 1950, 2250, 2690, 2960,\n",
       "       2270, 2570, 2500, 1440, 2750, 2221, 1010, 3390, 3530, 1640, 1510,\n",
       "       2420, 1940, 3240, 1680,  890, 1130, 3350, 2350, 1870, 1720, 1850,\n",
       "       1900, 1980, 2520, 1350, 1750, 1160, 2550, 2370, 1240, 1270, 2990,\n",
       "       1380, 1540, 2090, 2640, 1830, 1620, 1880, 2340, 1710, 2700, 3060,\n",
       "       2660, 1700, 1970, 1420, 2060, 2480, 1550, 1170, 2820, 1560, 2230,\n",
       "       2840, 1450, 1500, 3160, 1200, 3400, 2110, 2920, 1770, 1070, 1930,\n",
       "       3740, 2260, 1670, 2290, 1050, 2540, 2190, 2030, 1230, 2330, 1300,\n",
       "       1430, 2770, 1250, 1630, 2590, 2130, 1100, 3836, 1320, 2120, 3070,\n",
       "       1910, 2080, 1960, 2280, 1150, 3430, 2070, 2600,  830, 1260, 3120,\n",
       "       2010, 1660, 1600, 2380, 3890, 4180, 2653, 2670, 3920, 2300, 2310,\n",
       "       2320, 3150, 1740, 2400, 4550, 2510, 2440, 2880, 3860, 2150, 1310,\n",
       "       1820, 3080,  880, 2560, 3470, 1020, 2040, 2610, 1810, 2860, 3480,\n",
       "       3130, 3360, 4050, 2450, 1790, 3180, 3600, 2000, 2430, 2850, 4680,\n",
       "       2360, 3930, 1490, 2460, 2077, 1920, 3630, 3220, 2100, 3230, 4300,\n",
       "       3850, 2424, 2530, 3030, 2830, 2900, 2950, 1470,  940, 2740, 4210,\n",
       "       3340, 3980, 2180, 3715, 2050, 1080, 2095, 1000, 3330, 2170, 1408,\n",
       "       1530, 2760, 3110,  950, 3000, 1307, 2220, 4190, 3440, 3250, 1110,\n",
       "       2870, 1210, 2910, 1120, 4230, 1708, 3090, 3270, 2970, 1180, 3100,\n",
       "       4100, 2930, 3510, 2688, 1840, 2490, 4090, 2810, 3260, 3680, 3420,\n",
       "       1654, 1365,  980, 1677, 1140, 3640, 3460, 3140, 1502, 3720, 2790,\n",
       "       2940,  990, 2890,  860, 4750, 1525, 3950, 5790,  760, 2234,  960,\n",
       "       3210, 2780, 2800, 2305, 2665, 3620, 2710, 4320, 2650, 3370, 1509,\n",
       "       1277, 1981, 2434, 4640, 2242, 3040, 3970, 3200, 4600,  840, 3290,\n",
       "       2214, 1162, 3010, 5600, 3820, 3540, 1975, 4800,  740, 3990, 3170,\n",
       "       1576, 1768, 3310, 2980, 1429, 3900, 3380,  820, 1090, 4060, 3910,\n",
       "       3190, 3450, 3730,  620, 3020, 3760, 3320, 1132, 3300, 3770, 3960,\n",
       "        870, 3560, 4620, 3520, 1572, 3490, 1088, 3159, 4470, 3570, 4890,\n",
       "       3690, 3280, 2083, 3780,  920, 1941, 1566,  850, 2496, 1040, 3410,\n",
       "       4240, 4670, 4350, 1714, 5380, 4330, 3830, 5000, 2144, 1494, 1357,\n",
       "        930, 3580, 4250, 4080, 3660, 1458, 3736, 1894, 2037, 1295, 4170,\n",
       "       3750, 3550, 4630, 1439, 3500, 2091,  900, 3880, 3710, 1616,  720,\n",
       "        800, 2315, 1564, 2767, 3721, 4650, 4020,  780, 1728, 2027, 1264,\n",
       "       1404, 1459, 2028, 3639, 1943, 3425, 2641, 2114, 1309, 2412, 2517,\n",
       "       1802, 2011, 1466, 1414, 3193, 1845, 1156, 3670, 1696, 5340, 4440,\n",
       "       1745, 1884, 4690, 4920, 2406, 4160, 3810, 4480, 2848, 1746, 2634,\n",
       "       2049, 5330, 1536, 2273, 3056, 4010, 4700,  910, 2125, 1665, 2683,\n",
       "       3790,  700, 1855,  750, 1078, 4150, 4340, 2344, 1098, 1175, 1188,\n",
       "       3700, 3840, 4042, 2518, 3800, 2488, 3590, 2052,  810, 1528, 5030,\n",
       "       4740, 5070, 2967, 4280, 2724, 3610, 3940, 4940, 4770, 1811, 4830,\n",
       "       2876, 1805, 1216, 5170, 1304, 2474, 4590, 4130, 1492, 1364, 2168,\n",
       "       4140, 3543, 1303, 2005, 3650, 2583, 4310, 2451, 1448, 2955, 2142,\n",
       "        790, 1638, 2554, 2441, 2216, 4220, 1961, 4540,  770, 4200, 3413,\n",
       "       1664, 2136, 3568, 4510, 1484, 1358, 2106, 1834, 2014, 4390, 4570,\n",
       "       2175, 6110, 4260,  710, 2112, 1934, 1518, 1302, 2622, 2619, 2382,\n",
       "       4290, 4560, 4000, 1336, 3112, 4070, 1468, 1571, 2605, 1138, 5110,\n",
       "       4850, 2165, 4410, 1678, 5610, 1984, 4660, 3870, 4370,  460, 4610,\n",
       "       1914, 3515, 2246, 1786, 2109, 2326, 2728, 4400, 4950, 1767, 2054,\n",
       "       5500, 2555, 3674, 2765, 1862, 1352, 4030,  399, 2415, 2901, 1815,\n",
       "       2236, 2253, 2004, 1356, 2403, 1137, 1256, 4930, 4040, 2376, 4520,\n",
       "       4490, 2189, 2566, 2396, 1282, 2155, 1056, 2389, 2256, 3618, 1326,\n",
       "       1168, 4913,  806, 1369, 2405, 2875, 1425, 5220, 1442, 2333, 3335,\n",
       "       1321, 3045, 1546, 4730, 2697, 2822, 2076, 1757, 4780,  952, 4270,\n",
       "       2075, 2667, 1092, 1217, 1716, 1792, 2961, 1125, 1463, 1886,  670,\n",
       "       4460, 2336, 3557, 5200, 2258, 1377, 2019, 2092, 4900, 2615, 1639,\n",
       "       1765, 1554, 1381, 4120, 5080, 1445, 2793, 2475,  998, 2384, 2575,\n",
       "       1398, 1584, 2439, 2197, 2029, 4362, 1443, 4420, 1691, 2495, 2437,\n",
       "       2547, 6210, 2009, 1847, 1346, 2578, 2879, 2255, 2815, 1608,  690,\n",
       "       2425, 1481, 2458, 2358, 2056, 1921, 2419, 2996, 2502, 1798, 3087,\n",
       "       1076, 2981, 2363, 3191, 1763, 1876, 1949, 2598, 1979, 1415, 2002,\n",
       "       2574, 2166, 3726, 2099, 2154, 1522, 1544, 2912, 2648, 1658, 2755,\n",
       "       2798, 1405, 2704, 2738, 3008, 2586, 2873, 1232, 2597, 2516, 1537,\n",
       "       1128, 2849, 1399, 1131, 1569, 2381, 1084, 2304, 4530, 2297, 2279,\n",
       "       2303, 2669, 4225, 2513, 2725, 1955, 2527, 4443, 2478, 1919, 1813,\n",
       "       2533,  828, 2015, 3078, 4495, 2673, 2316, 2647, 3402, 3494, 2156,\n",
       "       3236, 2612, 2323, 2409, 2354, 1285, 2616, 1427, 1516, 2456, 2844,\n",
       "       1495, 2594, 2604, 1268, 2198, 3038, 2927])"
      ]
     },
     "execution_count": 25,
     "metadata": {},
     "output_type": "execute_result"
    }
   ],
   "source": [
    "df[\"sqft_living15\"].unique()"
   ]
  },
  {
   "cell_type": "code",
   "execution_count": 26,
   "id": "8f01602f",
   "metadata": {},
   "outputs": [
    {
     "data": {
      "text/plain": [
       "array([5650, 7639, 8062, ..., 5731, 1509, 2007])"
      ]
     },
     "execution_count": 26,
     "metadata": {},
     "output_type": "execute_result"
    }
   ],
   "source": [
    "df[\"sqft_lot15\"].unique()"
   ]
  },
  {
   "cell_type": "markdown",
   "id": "d5fd8ed3",
   "metadata": {},
   "source": [
    "### Handling year of built and year of renovation:"
   ]
  },
  {
   "cell_type": "code",
   "execution_count": 27,
   "id": "e3454a71",
   "metadata": {},
   "outputs": [],
   "source": [
    "df[\"age_of_house\"] = pd.DatetimeIndex(df[\"date\"]).year - df[\"yr_built\"] \n",
    "df=df.drop(\"age_of_house\",axis=1)"
   ]
  },
  {
   "cell_type": "markdown",
   "id": "9641dcdf",
   "metadata": {},
   "source": [
    "#### By Date time index I calculate the age of the property. the drop the year of built."
   ]
  },
  {
   "cell_type": "code",
   "execution_count": 28,
   "id": "49c2a25a",
   "metadata": {},
   "outputs": [],
   "source": [
    "df[\"age_renovate\"] = pd.DatetimeIndex(df[\"date\"]).year - df[\"yr_renovated\"] \n",
    "df=df.drop(\"age_renovate\",axis=1)\n",
    "df=df.drop(\"date\",axis=1)"
   ]
  },
  {
   "cell_type": "markdown",
   "id": "05cd5994",
   "metadata": {},
   "source": [
    "#### same I do for year of renovate and the drop the year of renovate and date columns as well."
   ]
  },
  {
   "cell_type": "markdown",
   "id": "fa3fa017",
   "metadata": {},
   "source": [
    "### set the target label:"
   ]
  },
  {
   "cell_type": "markdown",
   "id": "70dc8c75",
   "metadata": {},
   "source": [
    "#### Now is the time to split the feature and target label of the train set and test set. (the axis is equal to one to split by columns)"
   ]
  },
  {
   "cell_type": "code",
   "execution_count": 29,
   "id": "efc5c623",
   "metadata": {},
   "outputs": [],
   "source": [
    "x = df.drop([\"price\"],axis=1)\n",
    "y = df[\"price\"]"
   ]
  },
  {
   "cell_type": "code",
   "execution_count": 30,
   "id": "c860ec71",
   "metadata": {},
   "outputs": [],
   "source": [
    "x_train,x_test,y_train,y_test = sklearn.model_selection.train_test_split(x,y,train_size=.85, test_size=.15)"
   ]
  },
  {
   "cell_type": "markdown",
   "id": "6493cfca",
   "metadata": {},
   "source": [
    "#### Split the data into 85% for training set and 15% for testing set.      "
   ]
  },
  {
   "cell_type": "markdown",
   "id": "400a801f",
   "metadata": {},
   "source": [
    "### Standardization"
   ]
  },
  {
   "cell_type": "code",
   "execution_count": 31,
   "id": "9a038396",
   "metadata": {},
   "outputs": [
    {
     "name": "stdout",
     "output_type": "stream",
     "text": [
      "x_train_standardized: (18371, 16)\n",
      "x_test_standardized: (3242, 16)\n"
     ]
    }
   ],
   "source": [
    "scaler = sklearn.preprocessing.StandardScaler()\n",
    "scaler.fit(x_train)\n",
    "\n",
    "x_train = scaler.transform(x_train)\n",
    "\n",
    "x_test= scaler.transform(x_test)\n",
    "\n",
    "\n",
    "print(\"x_train_standardized:\", x_train.shape)\n",
    "print(\"x_test_standardized:\", x_test.shape)"
   ]
  },
  {
   "cell_type": "markdown",
   "id": "c766d9a9",
   "metadata": {},
   "source": [
    "#### Building and fitting a standardization model and scaling the training and testing features"
   ]
  },
  {
   "cell_type": "markdown",
   "id": "a0260f2b",
   "metadata": {},
   "source": [
    "#### SVD model is one model for reduction regression.first,building a SVD model and fit it and finally try it on training and test set.  The SVD does not gives a good performance. so I deleted this step "
   ]
  },
  {
   "cell_type": "markdown",
   "id": "bbe4d3a2",
   "metadata": {},
   "source": [
    "## Model Selection and Hyperparameter Tuning"
   ]
  },
  {
   "cell_type": "markdown",
   "id": "954afe91",
   "metadata": {},
   "source": [
    "#### Grid search is used for tunung hyperparameters and set n_job to 10, cv to 5 and the metric is R squer error"
   ]
  },
  {
   "cell_type": "markdown",
   "id": "000291e7",
   "metadata": {},
   "source": [
    "### Gradient Boosting "
   ]
  },
  {
   "cell_type": "markdown",
   "id": "3aeeb603",
   "metadata": {},
   "source": [
    "#### Gradient boosting is a predictive model based on a week prediction ensemble that can be used in regression models because there is no clear way to set hyperparameters and we must do it through trial and error. The number of boosting steps I chose is n_estimators. the learning rate is the rate at which the number of contributions from each tree decreases. max_depth is used to limit the depth of a node in a tree. The proportion of samples to be used for fitting the individual base learning is called a sub-sample. The random seed delivered to each tree estimator at each boosting stage can be controlled by the random stage."
   ]
  },
  {
   "cell_type": "code",
   "execution_count": 32,
   "id": "af215f9d",
   "metadata": {},
   "outputs": [
    {
     "name": "stdout",
     "output_type": "stream",
     "text": [
      "R squer of best  = 0.89\n",
      "Best found hyperparameters = {'learning_rate': 0.1, 'max_depth': 4, 'n_estimators': 1000, 'random_state': 1, 'subsample': 0.5}\n"
     ]
    }
   ],
   "source": [
    "parameters_grid = {'n_estimators':[500,1000,2000],'learning_rate':[.001,0.01,.1],\n",
    " 'max_depth':[1,2,4],'subsample':[.5,.75,1],'random_state':[1,2]}\n",
    "\n",
    "model_Gradient= sklearn.model_selection.GridSearchCV(sklearn.ensemble.GradientBoostingRegressor(),parameters_grid,\n",
    "                                                     n_jobs=10, cv=5,scoring= \"r2\")\n",
    "\n",
    "model_Gradient.fit(x_train,y_train)\n",
    "\n",
    "print(\"R squer of best  = {:.2f}\".format(model_Gradient.best_score_))\n",
    "print(\"Best found hyperparameters = {}\".format(model_Gradient.best_params_))"
   ]
  },
  {
   "cell_type": "markdown",
   "id": "b65c8644",
   "metadata": {},
   "source": [
    "### Random forest regression"
   ]
  },
  {
   "cell_type": "markdown",
   "id": "77a05b59",
   "metadata": {},
   "source": [
    "#### Random forest regression is control over fitting meta estimator.                    n_estimator is the number of trees, the max _feature is for finding the best split, min_sample_split is for splitting an internal node with the fewest amount of samples, and boost_trap sample is used while generating trees."
   ]
  },
  {
   "cell_type": "code",
   "execution_count": 33,
   "id": "df3e4318",
   "metadata": {},
   "outputs": [
    {
     "name": "stdout",
     "output_type": "stream",
     "text": [
      " R squer of bestof best  = 0.87\n",
      "Best found hyperparameters of = {'bootstrap': False, 'max_features': 'log2', 'min_samples_split': 8, 'n_estimators': 30}\n"
     ]
    }
   ],
   "source": [
    "parameters_grid = {\"n_estimators\": [10,20,30], \"max_features\": [\"auto\", \"sqrt\", \"log2\"],\n",
    "                  \n",
    "                   \"min_samples_split\": [2,4,8], \"bootstrap\": [True, False]\n",
    "}\n",
    "\n",
    "model_Random_forest= sklearn.model_selection.GridSearchCV(sklearn.ensemble.RandomForestRegressor(),parameters_grid,\n",
    "                                                     n_jobs=10, cv=5,scoring= \"r2\")\n",
    "\n",
    "model_Random_forest.fit(x_train,y_train)\n",
    "\n",
    "print(\" R squer of bestof best  = {:.2f}\".format(model_Random_forest.best_score_))\n",
    "print(\"Best found hyperparameters of = {}\".format(model_Random_forest.best_params_))"
   ]
  },
  {
   "cell_type": "markdown",
   "id": "706a193b",
   "metadata": {},
   "source": [
    "### MLP regression"
   ]
  },
  {
   "cell_type": "markdown",
   "id": "93ad9dc1",
   "metadata": {},
   "source": [
    "#### The MLP model is not efficient for this data set because I tried differently hyperparameters but still a lot of time.Also, need more powerful computers for tuning and train them but as we could see Gradient boosting gives much better result with less time. the parameters_grid is the list of parameters I tried."
   ]
  },
  {
   "cell_type": "code",
   "execution_count": null,
   "id": "5664fda3",
   "metadata": {},
   "outputs": [],
   "source": [
    "parameters_grid = {\n",
    "    \"hidden_layer_sizes\":[(100),(150),(100,100),(100,150)],\n",
    "    \"learning_rate\":[\"constant\", \"invscaling\", \"adaptive\"],\n",
    "    \"batch_size\":[2,5,10],\n",
    "    \"max_iter\":[21613],\n",
    "    \"solver\":[\"lbfgs\", \"sgd\", \"adam\"],\n",
    "    \"alpha\":[0.00001,0.0001,0.001],\n",
    "    \"random_state\":[1,2]\n",
    "}\n",
    "\n",
    "model_MLP = sklearn.model_selection.GridSearchCV(sklearn.neural_network.MLPRegressor(),parameters_grid,\n",
    "                                                     n_jobs=10, cv=5,scoring= \"r2\")\n",
    "\n",
    "model_MLP.fit(x_train,y_train)\n",
    "\n",
    "print(\"R squer of best of best MLP = {:.2f}\".format(model_MLP.best_score_))\n",
    "print(\"Best found hyperparameters of MLP = {}\".format(model_MLP.best_params_))"
   ]
  },
  {
   "cell_type": "markdown",
   "id": "3bc1e230",
   "metadata": {},
   "source": [
    "## Model assessment:"
   ]
  },
  {
   "cell_type": "markdown",
   "id": "414a9005",
   "metadata": {},
   "source": [
    "#### The best model is Gradiant boosting with the parameters that Grid search has chosen. The R square for that model was 89 so in the model assessment section, the y_predict is calculated to understand the efficiency of our model the reason that I chose R square is that it is easy to understand and it means the calculation of the ratio of the dependent variable's variability that the model can account for. Also, I calculated the mean squared error as the second metric, which means calculating the digression of the model prediction from the actual amount."
   ]
  },
  {
   "cell_type": "code",
   "execution_count": 36,
   "id": "a51f8ba7",
   "metadata": {},
   "outputs": [
    {
     "name": "stdout",
     "output_type": "stream",
     "text": [
      "R squer = 0.8930646670948288\n",
      "mean_squared_error = 14018116029.025202\n"
     ]
    }
   ],
   "source": [
    "y_predicted = model_Gradient.predict(x_test)\n",
    "\n",
    "\n",
    "r2 = sklearn.metrics.r2_score(y_test, y_predicted)\n",
    "\n",
    "\n",
    "mean_squared_error = sklearn.metrics.mean_squared_error(y_test, y_predicted)\n",
    "\n",
    "\n",
    "print(\"R squer =\", r2)\n",
    "print(\"mean_squared_error =\", mean_squared_error)"
   ]
  },
  {
   "cell_type": "markdown",
   "id": "c06a60de",
   "metadata": {},
   "source": [
    "## Final discution"
   ]
  },
  {
   "cell_type": "markdown",
   "id": "6f232211",
   "metadata": {},
   "source": [
    "#### I found some advantages to this notebook. First the. The gradient boosting model gives good metrics. The mean square of this model is .89 which is the good one for financial machine learning results. In addition to that, this model is deficient since the hyperparameters tuning and training model is not consume a lot of time and computational power. I changed a lot of ti find the best one. However, there are some drawbacks there was no good explanation about collecting some numbers for this data set. For instance, there is no explanation about the reason why bathrooms have continuous numbers. But fortunately, it does not make any problems for predicting. Also, some features need some feature engineering to get used such as the year of building and year of renovation so by date I calculate the age of the property and age of renovation in this way these features became more meaning full. One problem that still is tuning and training the MLP model. I took a lot of time and still does not get the result, this could be the problem related to complexity and lack of computational power in other words, this model is not the good choice for this data set.  I think the bias and variance are balanced enough as a result of the metrics we see. Overall, I think this model and the way the featured engineer and the hyperparameters tune is efficient enough to give a good result and the company now knows how they can trust the prediction of the model which solves their problem."
   ]
  },
  {
   "cell_type": "markdown",
   "id": "3a504b92",
   "metadata": {},
   "source": [
    "## Refrence"
   ]
  },
  {
   "cell_type": "markdown",
   "id": "3dd3cd77",
   "metadata": {},
   "source": [
    "##### kaggle.com. (n.d.). House_Regression_Project. [online] Available at: https://www.kaggle.com/code/lunamcbride24/house-regression-project [Accessed 20 Jun. 2022]."
   ]
  },
  {
   "cell_type": "markdown",
   "id": "6c8e017e",
   "metadata": {},
   "source": [
    "#### scikit-learn. (n.d.). Gradient Boosting regression. [online] Available at: https://scikit-learn.org/stable/auto_examples/ensemble/plot_gradient_boosting_regression.html."
   ]
  }
 ],
 "metadata": {
  "kernelspec": {
   "display_name": "Python 3 (ipykernel)",
   "language": "python",
   "name": "python3"
  },
  "language_info": {
   "codemirror_mode": {
    "name": "ipython",
    "version": 3
   },
   "file_extension": ".py",
   "mimetype": "text/x-python",
   "name": "python",
   "nbconvert_exporter": "python",
   "pygments_lexer": "ipython3",
   "version": "3.8.12"
  }
 },
 "nbformat": 4,
 "nbformat_minor": 5
}
