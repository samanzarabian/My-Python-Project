{
 "cells": [
  {
   "cell_type": "markdown",
   "id": "f78b699a",
   "metadata": {},
   "source": [
    "# Introduction"
   ]
  },
  {
   "cell_type": "markdown",
   "id": "8af5197f",
   "metadata": {},
   "source": [
    "https://www.kaggle.com/datasets/amananandrai/ag-news-classification-dataset"
   ]
  },
  {
   "cell_type": "markdown",
   "id": "be1f6d78",
   "metadata": {},
   "source": [
    "#### NEWS LETTER  website wanted to have a model that predicts the category of news by the content of the text news. It is an important task for them because they want to predict which text is in which class so they can have an overview of the news. there are some sources for collecting data such as social media websites and even new files but rarely do they have lable.  some even have but still, need time and money to collect them so I use an open-source dataset that was relevant, and also the size of the data set is big enough to find the best machine learning model. I formulate this problem as an NLP text classification pipeline and since the data set has lable it is supervised machine learning and because the target labels are from different classes then it is a multi clasiffication task. In this pipeline, I do data exploration, preprocessing, feature engineering,on the data set ,and then I try to find the best model with the best hyperparameters. Finally, I would like to calculate the necessary metrics."
   ]
  },
  {
   "cell_type": "markdown",
   "id": "e873b822",
   "metadata": {},
   "source": [
    "# Importin and Loding the data "
   ]
  },
  {
   "cell_type": "markdown",
   "id": "8a0ba1db",
   "metadata": {},
   "source": [
    "## Importing Library"
   ]
  },
  {
   "cell_type": "code",
   "execution_count": 35,
   "id": "f229f152",
   "metadata": {},
   "outputs": [],
   "source": [
    "import pandas as pd\n",
    "import requests\n",
    "import bs4\n",
    "import textacy\n",
    "import spacy\n",
    "nlp = spacy.load(\"en_core_web_sm\")\n",
    "import pandas as pd\n",
    "pd.set_option(\"max_colwidth\", None)\n",
    "import sklearn.feature_extraction.text\n",
    "import sklearn.metrics.pairwise\n",
    "import sklearn.model_selection\n",
    "\n",
    "import nltk. corpus\n",
    "import gensim.models\n",
    "import sklearn.metrics\n",
    "import sklearn.model_selection\n",
    "import sklearn.ensemble\n",
    "import sklearn.naive_bayes\n",
    "import sklearn.model_selection\n",
    "import sklearn.feature_extraction.text\n",
    "import nltk\n",
    "import gensim\n",
    "import spacy\n",
    "import textacy\n",
    "nlp = spacy.load(\"en_core_web_sm\")\n",
    "import sklearn.ensemble\n",
    "import imblearn.over_sampling\n"
   ]
  },
  {
   "cell_type": "markdown",
   "id": "4a23f0e3",
   "metadata": {},
   "source": [
    "## Loding text "
   ]
  },
  {
   "cell_type": "code",
   "execution_count": 36,
   "id": "f3728150",
   "metadata": {
    "scrolled": true
   },
   "outputs": [
    {
     "data": {
      "text/html": [
       "<div>\n",
       "<style scoped>\n",
       "    .dataframe tbody tr th:only-of-type {\n",
       "        vertical-align: middle;\n",
       "    }\n",
       "\n",
       "    .dataframe tbody tr th {\n",
       "        vertical-align: top;\n",
       "    }\n",
       "\n",
       "    .dataframe thead th {\n",
       "        text-align: right;\n",
       "    }\n",
       "</style>\n",
       "<table border=\"1\" class=\"dataframe\">\n",
       "  <thead>\n",
       "    <tr style=\"text-align: right;\">\n",
       "      <th></th>\n",
       "      <th>Unnamed: 0</th>\n",
       "      <th>news_headline</th>\n",
       "      <th>news_article</th>\n",
       "      <th>news_category</th>\n",
       "    </tr>\n",
       "  </thead>\n",
       "  <tbody>\n",
       "    <tr>\n",
       "      <th>0</th>\n",
       "      <td>0</td>\n",
       "      <td>50-year-old problem of biology solved by Artificial Intelligence</td>\n",
       "      <td>DeepMind's AI system 'AlphaFold' has been recognised as a solution to \"protein folding\", a grand challenge in biology for over 50 years. DeepMind showed it can predict how proteins fold into 3D shapes, a complex process that is fundamental to understanding the biological machinery of life. AlphaFold can predict the shape of proteins within the width of an atom.</td>\n",
       "      <td>technology</td>\n",
       "    </tr>\n",
       "    <tr>\n",
       "      <th>1</th>\n",
       "      <td>1</td>\n",
       "      <td>Microsoft Teams to stop working on Internet Explorer 11 from Nov 30</td>\n",
       "      <td>Microsoft Teams will stop working on Internet Explorer 11 from today, November 30. Users will now need to download the Teams app or browse it on Microsoft Edge. Besides this, Microsoft 365 apps and services will stop supporting Internet Explorer 11 by August 2021. Microsoft will also pull support for Microsoft Edge Legacy desktop app on March 9.</td>\n",
       "      <td>technology</td>\n",
       "    </tr>\n",
       "    <tr>\n",
       "      <th>2</th>\n",
       "      <td>2</td>\n",
       "      <td>Hope US won't erect barriers to cooperation: China on blacklist report</td>\n",
       "      <td>China, in response to reports of US adding Chinese chipmaker SMIC and national offshore oil producer CNOOC to a defence blacklist, said that it hoped US will not erect barriers and obstacles to cooperation. Reuters reported that President Donald Trump's administration is poised to add SMIC and CNOOC to a list of companies allegedly owned or controlled by Chinese military.</td>\n",
       "      <td>technology</td>\n",
       "    </tr>\n",
       "    <tr>\n",
       "      <th>3</th>\n",
       "      <td>3</td>\n",
       "      <td>Global smartphone sales in Q3 falls 5.7% to 36.6 cr units: Gartner</td>\n",
       "      <td>The global smartphone sales in the third quarter of 2020 fell by 5.7% year-on-year to 36.6 crore units, according to Gartner. Overall global mobile phone sales to end users totalled 40.1 crore units, a decline of 8.7% year-on-year. Samsung held the top position with a market share of 22%, followed by Huawei with 14.1%.</td>\n",
       "      <td>technology</td>\n",
       "    </tr>\n",
       "    <tr>\n",
       "      <th>4</th>\n",
       "      <td>4</td>\n",
       "      <td>EU hoping Biden will clarify US position on digital tax: Report</td>\n",
       "      <td>The European Union (EU) is hoping that US President-elect Joe Biden's incoming administration will clarify US position on digital taxation within two months of taking office, a French Finance Ministry source told Reuters. The bloc-wide tax would apply on digital services offered by companies such as Google and Amazon.</td>\n",
       "      <td>technology</td>\n",
       "    </tr>\n",
       "  </tbody>\n",
       "</table>\n",
       "</div>"
      ],
      "text/plain": [
       "   Unnamed: 0  \\\n",
       "0           0   \n",
       "1           1   \n",
       "2           2   \n",
       "3           3   \n",
       "4           4   \n",
       "\n",
       "                                                            news_headline  \\\n",
       "0        50-year-old problem of biology solved by Artificial Intelligence   \n",
       "1     Microsoft Teams to stop working on Internet Explorer 11 from Nov 30   \n",
       "2  Hope US won't erect barriers to cooperation: China on blacklist report   \n",
       "3      Global smartphone sales in Q3 falls 5.7% to 36.6 cr units: Gartner   \n",
       "4         EU hoping Biden will clarify US position on digital tax: Report   \n",
       "\n",
       "                                                                                                                                                                                                                                                                                                                                                                             news_article  \\\n",
       "0             DeepMind's AI system 'AlphaFold' has been recognised as a solution to \"protein folding\", a grand challenge in biology for over 50 years. DeepMind showed it can predict how proteins fold into 3D shapes, a complex process that is fundamental to understanding the biological machinery of life. AlphaFold can predict the shape of proteins within the width of an atom.   \n",
       "1                             Microsoft Teams will stop working on Internet Explorer 11 from today, November 30. Users will now need to download the Teams app or browse it on Microsoft Edge. Besides this, Microsoft 365 apps and services will stop supporting Internet Explorer 11 by August 2021. Microsoft will also pull support for Microsoft Edge Legacy desktop app on March 9.   \n",
       "2  China, in response to reports of US adding Chinese chipmaker SMIC and national offshore oil producer CNOOC to a defence blacklist, said that it hoped US will not erect barriers and obstacles to cooperation. Reuters reported that President Donald Trump's administration is poised to add SMIC and CNOOC to a list of companies allegedly owned or controlled by Chinese military.   \n",
       "3                                                        The global smartphone sales in the third quarter of 2020 fell by 5.7% year-on-year to 36.6 crore units, according to Gartner. Overall global mobile phone sales to end users totalled 40.1 crore units, a decline of 8.7% year-on-year. Samsung held the top position with a market share of 22%, followed by Huawei with 14.1%.   \n",
       "4                                                         The European Union (EU) is hoping that US President-elect Joe Biden's incoming administration will clarify US position on digital taxation within two months of taking office, a French Finance Ministry source told Reuters. The bloc-wide tax would apply on digital services offered by companies such as Google and Amazon.   \n",
       "\n",
       "  news_category  \n",
       "0    technology  \n",
       "1    technology  \n",
       "2    technology  \n",
       "3    technology  \n",
       "4    technology  "
      ]
     },
     "execution_count": 36,
     "metadata": {},
     "output_type": "execute_result"
    }
   ],
   "source": [
    "df = pd.read_csv(\"../../datasets/Newsdataset.csv\")\n",
    "df.head()"
   ]
  },
  {
   "cell_type": "markdown",
   "id": "ae627d66",
   "metadata": {},
   "source": [
    "# Exploration, Preprocessing and Feature engineering"
   ]
  },
  {
   "cell_type": "code",
   "execution_count": 37,
   "id": "1b2b736d",
   "metadata": {},
   "outputs": [
    {
     "name": "stdout",
     "output_type": "stream",
     "text": [
      "<class 'pandas.core.frame.DataFrame'>\n",
      "RangeIndex: 13166 entries, 0 to 13165\n",
      "Data columns (total 4 columns):\n",
      " #   Column         Non-Null Count  Dtype \n",
      "---  ------         --------------  ----- \n",
      " 0   Unnamed: 0     13166 non-null  int64 \n",
      " 1   news_headline  13166 non-null  object\n",
      " 2   news_article   13166 non-null  object\n",
      " 3   news_category  13166 non-null  object\n",
      "dtypes: int64(1), object(3)\n",
      "memory usage: 411.6+ KB\n"
     ]
    }
   ],
   "source": [
    "df.info()"
   ]
  },
  {
   "cell_type": "markdown",
   "id": "0a2972d5",
   "metadata": {},
   "source": [
    "#### The data set has 13166 rows and 4 columns 3 columns are objects and one intigers."
   ]
  },
  {
   "cell_type": "markdown",
   "id": "c430a313",
   "metadata": {},
   "source": [
    "#### the classes of the news is :"
   ]
  },
  {
   "cell_type": "code",
   "execution_count": 38,
   "id": "d3b1ee97",
   "metadata": {},
   "outputs": [
    {
     "data": {
      "text/plain": [
       "array(['technology', 'sports', 'world', 'politics', 'entertainment',\n",
       "       'automobile', 'science'], dtype=object)"
      ]
     },
     "execution_count": 38,
     "metadata": {},
     "output_type": "execute_result"
    }
   ],
   "source": [
    "df[\"news_category\"].unique() "
   ]
  },
  {
   "cell_type": "code",
   "execution_count": 39,
   "id": "6f934621",
   "metadata": {},
   "outputs": [
    {
     "data": {
      "text/plain": [
       "Unnamed: 0       0\n",
       "news_headline    0\n",
       "news_article     0\n",
       "news_category    0\n",
       "dtype: int64"
      ]
     },
     "execution_count": 39,
     "metadata": {},
     "output_type": "execute_result"
    }
   ],
   "source": [
    "df.isnull().sum()"
   ]
  },
  {
   "cell_type": "markdown",
   "id": "71cc6b53",
   "metadata": {},
   "source": [
    "#### Just as info and this isnull method shows there is not any explicit missing values."
   ]
  },
  {
   "cell_type": "markdown",
   "id": "da5e39c0",
   "metadata": {},
   "source": [
    "### Fixed the news article as variable and news category as target label."
   ]
  },
  {
   "cell_type": "code",
   "execution_count": 40,
   "id": "f5a37ab9",
   "metadata": {},
   "outputs": [],
   "source": [
    "x=df[\"news_article\"]\n",
    "y=df[\"news_category\"]"
   ]
  },
  {
   "cell_type": "code",
   "execution_count": 41,
   "id": "651fb872",
   "metadata": {},
   "outputs": [],
   "source": [
    "x_train, x_test, y_train, y_test = sklearn.model_selection.train_test_split(x, y,test_size=.3,train_size=.7)"
   ]
  },
  {
   "cell_type": "markdown",
   "id": "19c91fb0",
   "metadata": {},
   "source": [
    "#### Split the data as a test and train set and the proportion of test set is 30%and train set is 70% so we have more data to train and the model has more chance to train."
   ]
  },
  {
   "cell_type": "code",
   "execution_count": 42,
   "id": "b7ffc6ae",
   "metadata": {},
   "outputs": [
    {
     "data": {
      "text/plain": [
       "world            1555\n",
       "entertainment    1544\n",
       "sports           1423\n",
       "technology       1378\n",
       "politics         1205\n",
       "science          1090\n",
       "automobile       1021\n",
       "Name: news_category, dtype: int64"
      ]
     },
     "execution_count": 42,
     "metadata": {},
     "output_type": "execute_result"
    }
   ],
   "source": [
    "y_train.value_counts()"
   ]
  },
  {
   "cell_type": "markdown",
   "id": "cabfe2a6",
   "metadata": {},
   "source": [
    "#### Controlling the balance of data set technology news, politics, science and automobile is not balanced. so one way to deal with this issue is over sampling technic."
   ]
  },
  {
   "cell_type": "markdown",
   "id": "ba1954e8",
   "metadata": {},
   "source": [
    "#### I use the over sampeling technic to balance the tarin data in this way our model train better and put the random state is a control the randomization of the algorithm and I put it zero."
   ]
  },
  {
   "cell_type": "code",
   "execution_count": 43,
   "id": "017befe3",
   "metadata": {},
   "outputs": [],
   "source": [
    "label_y = sklearn.preprocessing.LabelEncoder()\n",
    "y_test = label_y.fit_transform(y_test)\n",
    "y_train = label_y.fit_transform(y_train)"
   ]
  },
  {
   "cell_type": "markdown",
   "id": "e47bf32e",
   "metadata": {},
   "source": [
    "#### Since the category of the news was objected it was necessary to encode them."
   ]
  },
  {
   "cell_type": "code",
   "execution_count": 44,
   "id": "0a3b5884",
   "metadata": {},
   "outputs": [],
   "source": [
    "vectorizer = sklearn.feature_extraction.text.TfidfVectorizer(min_df=20)\n",
    "vectorizer.fit(x_train)\n",
    "x_train = vectorizer.transform(x_train).toarray()\n",
    "x_test = vectorizer. transform(x_test).toarray()"
   ]
  },
  {
   "cell_type": "markdown",
   "id": "bbbd8ffc",
   "metadata": {},
   "source": [
    "#### TFidf Is a word vectorazation. It means, it converts the text into vectors and codes them so in this way text be able to be readable for computers. It can notice the importance of a given word. It can quantify the importance of a score for each word measured often terms, and it is useful for classification. itself contains word tokenizer lowercase."
   ]
  },
  {
   "cell_type": "code",
   "execution_count": 49,
   "id": "8dfc7dee",
   "metadata": {},
   "outputs": [],
   "source": [
    "balance = imblearn.over_sampling.RandomOverSampler(random_state=0)\n",
    "x_train, y_train = balance.fit_resample(x_train,y_train)"
   ]
  },
  {
   "cell_type": "markdown",
   "id": "d844b413",
   "metadata": {},
   "source": [
    "#### I use the over sampeling technic to balance the tarin data in this way our model train better and put the random state is a control the randomization of the algorithm and I put it zero."
   ]
  },
  {
   "cell_type": "markdown",
   "id": "ac0d1a2f",
   "metadata": {},
   "source": [
    "### modeling traditional model "
   ]
  },
  {
   "cell_type": "code",
   "execution_count": 64,
   "id": "fca19213",
   "metadata": {},
   "outputs": [
    {
     "name": "stdout",
     "output_type": "stream",
     "text": [
      "Accuracy of best  classfier = 0.93\n",
      "Best found hyperparameters of classifier = {'max_depth': 80, 'min_samples_split': 2, 'n_estimators': 250}\n"
     ]
    }
   ],
   "source": [
    "parameters_grid = {\"n_estimators\":[200,250,300],\n",
    "                    \"max_depth\":[60,70,80],\n",
    "                    \"min_samples_split\":[2,3,5]\n",
    "}\n",
    "model_ETC = sklearn.model_selection.GridSearchCV(sklearn.ensemble.ExtraTreesClassifier(),\n",
    "                                               parameters_grid, scoring=\"accuracy\", cv=5, n_jobs=1)\n",
    "model_ETC.fit(x_train, y_train)\n",
    "print(\"Accuracy of best  classfier = {:.2f}\".format(model_ETC.best_score_))\n",
    "print(\"Best found hyperparameters of classifier = {}\".format(model_ETC.best_params_))"
   ]
  },
  {
   "cell_type": "code",
   "execution_count": 56,
   "id": "c027f6da",
   "metadata": {},
   "outputs": [
    {
     "data": {
      "text/plain": [
       "0.9377215189873418"
      ]
     },
     "execution_count": 56,
     "metadata": {},
     "output_type": "execute_result"
    }
   ],
   "source": [
    "y_predicted = model_ETC.predict(x_test)\n",
    "\n",
    "ac = sklearn.metrics.accuracy_score(y_test,y_predicted)\n",
    "ac"
   ]
  },
  {
   "cell_type": "markdown",
   "id": "3ee928ed",
   "metadata": {},
   "source": [
    "### Advance model "
   ]
  },
  {
   "cell_type": "code",
   "execution_count": 60,
   "id": "a67b0ceb",
   "metadata": {},
   "outputs": [],
   "source": [
    "label = sklearn.preprocessing.LabelEncoder()\n",
    "df[\"news_category\"] = label.fit_transform(df[\"news_category\"])\n",
    "\n",
    "x_new_train,x_new_test,y_new_train,y_new_test = sklearn.model_selection.train_test_split(df[\"news_article\"],\n",
    "                                                                \n",
    "                                                df[\"news_category\"],test_size=.4,train_size=.6)\n",
    "\n"
   ]
  },
  {
   "cell_type": "code",
   "execution_count": 61,
   "id": "5a8c877f",
   "metadata": {},
   "outputs": [],
   "source": [
    "df_train = pd.DataFrame({\"text\":x_new_train, \"labels\":y_new_train})\n",
    "df_test  = pd.DataFrame({\"text\":x_new_test, \"labels\":y_new_test})"
   ]
  },
  {
   "cell_type": "code",
   "execution_count": 62,
   "id": "95a2be0c",
   "metadata": {},
   "outputs": [
    {
     "name": "stderr",
     "output_type": "stream",
     "text": [
      "Some weights of the model checkpoint at roberta-base were not used when initializing RobertaForSequenceClassification: ['lm_head.bias', 'lm_head.dense.bias', 'lm_head.dense.weight', 'lm_head.layer_norm.weight', 'roberta.pooler.dense.weight', 'lm_head.layer_norm.bias', 'lm_head.decoder.weight', 'roberta.pooler.dense.bias']\n",
      "- This IS expected if you are initializing RobertaForSequenceClassification from the checkpoint of a model trained on another task or with another architecture (e.g. initializing a BertForSequenceClassification model from a BertForPreTraining model).\n",
      "- This IS NOT expected if you are initializing RobertaForSequenceClassification from the checkpoint of a model that you expect to be exactly identical (initializing a BertForSequenceClassification model from a BertForSequenceClassification model).\n",
      "Some weights of RobertaForSequenceClassification were not initialized from the model checkpoint at roberta-base and are newly initialized: ['classifier.out_proj.weight', 'classifier.out_proj.bias', 'classifier.dense.weight', 'classifier.dense.bias']\n",
      "You should probably TRAIN this model on a down-stream task to be able to use it for predictions and inference.\n"
     ]
    },
    {
     "ename": "AttributeError",
     "evalue": "'numpy.ndarray' object has no attribute 'columns'",
     "output_type": "error",
     "traceback": [
      "\u001b[0;31m---------------------------------------------------------------------------\u001b[0m",
      "\u001b[0;31mAttributeError\u001b[0m                            Traceback (most recent call last)",
      "\u001b[0;32m/tmp/ipykernel_55375/1793931581.py\u001b[0m in \u001b[0;36m<module>\u001b[0;34m\u001b[0m\n\u001b[1;32m     12\u001b[0m )\n\u001b[1;32m     13\u001b[0m \u001b[0;34m\u001b[0m\u001b[0m\n\u001b[0;32m---> 14\u001b[0;31m \u001b[0mmodel__simpleTransFormers\u001b[0m\u001b[0;34m.\u001b[0m\u001b[0mtrain_model\u001b[0m\u001b[0;34m(\u001b[0m\u001b[0mx_train\u001b[0m\u001b[0;34m,\u001b[0m\u001b[0my_train\u001b[0m\u001b[0;34m)\u001b[0m\u001b[0;34m\u001b[0m\u001b[0;34m\u001b[0m\u001b[0m\n\u001b[0m",
      "\u001b[0;32m/usr/local/lib/python3.8/dist-packages/simpletransformers/classification/classification_model.py\u001b[0m in \u001b[0;36mtrain_model\u001b[0;34m(self, train_df, multi_label, output_dir, show_running_loss, args, eval_df, verbose, **kwargs)\u001b[0m\n\u001b[1;32m    553\u001b[0m                     \u001b[0;34m\"Input must be given as a path to a file when using lazy loading\"\u001b[0m\u001b[0;34m\u001b[0m\u001b[0;34m\u001b[0m\u001b[0m\n\u001b[1;32m    554\u001b[0m                 )\n\u001b[0;32m--> 555\u001b[0;31m             \u001b[0;32mif\u001b[0m \u001b[0;34m\"text\"\u001b[0m \u001b[0;32min\u001b[0m \u001b[0mtrain_df\u001b[0m\u001b[0;34m.\u001b[0m\u001b[0mcolumns\u001b[0m \u001b[0;32mand\u001b[0m \u001b[0;34m\"labels\"\u001b[0m \u001b[0;32min\u001b[0m \u001b[0mtrain_df\u001b[0m\u001b[0;34m.\u001b[0m\u001b[0mcolumns\u001b[0m\u001b[0;34m:\u001b[0m\u001b[0;34m\u001b[0m\u001b[0;34m\u001b[0m\u001b[0m\n\u001b[0m\u001b[1;32m    556\u001b[0m                 \u001b[0;32mif\u001b[0m \u001b[0mself\u001b[0m\u001b[0;34m.\u001b[0m\u001b[0margs\u001b[0m\u001b[0;34m.\u001b[0m\u001b[0mmodel_type\u001b[0m \u001b[0;34m==\u001b[0m \u001b[0;34m\"layoutlm\"\u001b[0m\u001b[0;34m:\u001b[0m\u001b[0;34m\u001b[0m\u001b[0;34m\u001b[0m\u001b[0m\n\u001b[1;32m    557\u001b[0m                     train_examples = [\n",
      "\u001b[0;31mAttributeError\u001b[0m: 'numpy.ndarray' object has no attribute 'columns'"
     ]
    }
   ],
   "source": [
    "import simpletransformers.classification\n",
    "\n",
    "model__simpleTransFormers = simpletransformers.classification.ClassificationModel(\"roberta\",\"roberta-base\",\n",
    "                                                                                   \n",
    "       use_cuda = False, num_labels = y.nunique(),\n",
    "           \n",
    "         args  = {\"overwrte_out_put\":True,\n",
    "              \"save_model_every_epoch\":False,\n",
    "              \"num_train_epochs\":1\n",
    "}                                                                         \n",
    "                                                                                  \n",
    ")\n",
    "\n",
    "model__simpleTransFormers.train_model(x_train,y_train)"
   ]
  },
  {
   "cell_type": "code",
   "execution_count": null,
   "id": "96f15636",
   "metadata": {},
   "outputs": [],
   "source": [
    "model = gensim.models.KeyedVectors.load_word2vec_format(\"/tmp/GoogleNews-vectors-negative300.bin.gz\", binary=True)"
   ]
  },
  {
   "cell_type": "markdown",
   "id": "7b1d7bfc",
   "metadata": {},
   "source": [
    "Stack Overflow. (n.d.). regex - Faster way to remove stop words in Python. [online] Available at: https://stackoverflow.com/questions/19560498/faster-way-to-remove-stop-words-in-python [Accessed 21 Jun. 2022]."
   ]
  }
 ],
 "metadata": {
  "kernelspec": {
   "display_name": "Python 3 (ipykernel)",
   "language": "python",
   "name": "python3"
  },
  "language_info": {
   "codemirror_mode": {
    "name": "ipython",
    "version": 3
   },
   "file_extension": ".py",
   "mimetype": "text/x-python",
   "name": "python",
   "nbconvert_exporter": "python",
   "pygments_lexer": "ipython3",
   "version": "3.8.12"
  }
 },
 "nbformat": 4,
 "nbformat_minor": 5
}
